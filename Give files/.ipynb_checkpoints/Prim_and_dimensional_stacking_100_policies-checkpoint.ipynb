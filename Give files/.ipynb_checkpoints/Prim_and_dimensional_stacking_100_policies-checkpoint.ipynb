{
 "cells": [
  {
   "cell_type": "markdown",
   "metadata": {},
   "source": [
    "# Prim and dimensional stacking over 100 policies"
   ]
  },
  {
   "cell_type": "code",
   "execution_count": 1,
   "metadata": {
    "ExecuteTime": {
     "end_time": "2021-06-10T09:27:15.653051Z",
     "start_time": "2021-06-10T09:27:10.490906Z"
    }
   },
   "outputs": [],
   "source": [
    "import pandas as pd\n",
    "from ema_workbench.analysis import prim\n",
    "import matplotlib.pyplot as plt\n",
    "from ema_workbench.analysis import dimensional_stacking"
   ]
  },
  {
   "cell_type": "code",
   "execution_count": 2,
   "metadata": {
    "ExecuteTime": {
     "end_time": "2021-06-10T09:27:17.455152Z",
     "start_time": "2021-06-10T09:27:16.077075Z"
    }
   },
   "outputs": [],
   "source": [
    "experiments = pd.read_csv('Outcomes/Experiments_from_Exploration_1000scenarios_100Policies_pf5.csv')\n",
    "outcomes_total_dikerings_load_DF = pd.read_csv('Outcomes/Proccesed_basecase_fully_aggregated_100000scenarios_pf5.csv')"
   ]
  },
  {
   "cell_type": "code",
   "execution_count": 3,
   "metadata": {
    "ExecuteTime": {
     "end_time": "2021-06-10T09:27:17.596383Z",
     "start_time": "2021-06-10T09:27:17.573444Z"
    }
   },
   "outputs": [],
   "source": [
    "pd.set_option('display.max_columns', 500)"
   ]
  },
  {
   "cell_type": "code",
   "execution_count": 4,
   "metadata": {
    "ExecuteTime": {
     "end_time": "2021-06-10T09:27:17.750828Z",
     "start_time": "2021-06-10T09:27:17.714900Z"
    }
   },
   "outputs": [],
   "source": [
    "experiments = experiments.iloc[:,1:17]"
   ]
  },
  {
   "cell_type": "code",
   "execution_count": 5,
   "metadata": {
    "ExecuteTime": {
     "end_time": "2021-06-10T09:27:17.937392Z",
     "start_time": "2021-06-10T09:27:17.893510Z"
    }
   },
   "outputs": [
    {
     "data": {
      "text/html": [
       "<div>\n",
       "<style scoped>\n",
       "    .dataframe tbody tr th:only-of-type {\n",
       "        vertical-align: middle;\n",
       "    }\n",
       "\n",
       "    .dataframe tbody tr th {\n",
       "        vertical-align: top;\n",
       "    }\n",
       "\n",
       "    .dataframe thead th {\n",
       "        text-align: right;\n",
       "    }\n",
       "</style>\n",
       "<table border=\"1\" class=\"dataframe\">\n",
       "  <thead>\n",
       "    <tr style=\"text-align: right;\">\n",
       "      <th></th>\n",
       "      <th>A.0_ID flood wave shape</th>\n",
       "      <th>A.1_Bmax</th>\n",
       "      <th>A.1_Brate</th>\n",
       "      <th>A.1_pfail</th>\n",
       "      <th>A.2_Bmax</th>\n",
       "      <th>A.2_Brate</th>\n",
       "      <th>A.2_pfail</th>\n",
       "      <th>A.3_Bmax</th>\n",
       "      <th>A.3_Brate</th>\n",
       "      <th>A.3_pfail</th>\n",
       "      <th>A.4_Bmax</th>\n",
       "      <th>A.4_Brate</th>\n",
       "      <th>A.4_pfail</th>\n",
       "      <th>A.5_Bmax</th>\n",
       "      <th>A.5_Brate</th>\n",
       "      <th>A.5_pfail</th>\n",
       "    </tr>\n",
       "  </thead>\n",
       "  <tbody>\n",
       "    <tr>\n",
       "      <th>0</th>\n",
       "      <td>126.0</td>\n",
       "      <td>223.622426</td>\n",
       "      <td>1.0</td>\n",
       "      <td>0.871722</td>\n",
       "      <td>218.831042</td>\n",
       "      <td>1.0</td>\n",
       "      <td>0.705490</td>\n",
       "      <td>237.027027</td>\n",
       "      <td>10.0</td>\n",
       "      <td>0.852197</td>\n",
       "      <td>122.745031</td>\n",
       "      <td>10.0</td>\n",
       "      <td>0.276320</td>\n",
       "      <td>133.842486</td>\n",
       "      <td>1.0</td>\n",
       "      <td>0.177182</td>\n",
       "    </tr>\n",
       "    <tr>\n",
       "      <th>1</th>\n",
       "      <td>79.0</td>\n",
       "      <td>298.108524</td>\n",
       "      <td>1.0</td>\n",
       "      <td>0.100861</td>\n",
       "      <td>232.253542</td>\n",
       "      <td>1.0</td>\n",
       "      <td>0.104278</td>\n",
       "      <td>33.997448</td>\n",
       "      <td>1.5</td>\n",
       "      <td>0.316080</td>\n",
       "      <td>134.287863</td>\n",
       "      <td>1.0</td>\n",
       "      <td>0.254493</td>\n",
       "      <td>206.265410</td>\n",
       "      <td>1.5</td>\n",
       "      <td>0.926149</td>\n",
       "    </tr>\n",
       "    <tr>\n",
       "      <th>2</th>\n",
       "      <td>80.0</td>\n",
       "      <td>275.541284</td>\n",
       "      <td>10.0</td>\n",
       "      <td>0.200497</td>\n",
       "      <td>229.990714</td>\n",
       "      <td>1.5</td>\n",
       "      <td>0.055838</td>\n",
       "      <td>114.045936</td>\n",
       "      <td>1.5</td>\n",
       "      <td>0.031793</td>\n",
       "      <td>305.444359</td>\n",
       "      <td>1.5</td>\n",
       "      <td>0.620158</td>\n",
       "      <td>222.904181</td>\n",
       "      <td>1.5</td>\n",
       "      <td>0.273655</td>\n",
       "    </tr>\n",
       "    <tr>\n",
       "      <th>3</th>\n",
       "      <td>15.0</td>\n",
       "      <td>200.546816</td>\n",
       "      <td>1.0</td>\n",
       "      <td>0.000321</td>\n",
       "      <td>281.785818</td>\n",
       "      <td>1.0</td>\n",
       "      <td>0.018157</td>\n",
       "      <td>162.548088</td>\n",
       "      <td>1.0</td>\n",
       "      <td>0.153352</td>\n",
       "      <td>262.402559</td>\n",
       "      <td>10.0</td>\n",
       "      <td>0.977910</td>\n",
       "      <td>226.391822</td>\n",
       "      <td>1.0</td>\n",
       "      <td>0.277829</td>\n",
       "    </tr>\n",
       "    <tr>\n",
       "      <th>4</th>\n",
       "      <td>120.0</td>\n",
       "      <td>312.688358</td>\n",
       "      <td>1.5</td>\n",
       "      <td>0.202780</td>\n",
       "      <td>334.804942</td>\n",
       "      <td>1.5</td>\n",
       "      <td>0.047327</td>\n",
       "      <td>178.394116</td>\n",
       "      <td>1.5</td>\n",
       "      <td>0.513973</td>\n",
       "      <td>74.210712</td>\n",
       "      <td>1.5</td>\n",
       "      <td>0.565032</td>\n",
       "      <td>199.306059</td>\n",
       "      <td>1.5</td>\n",
       "      <td>0.960193</td>\n",
       "    </tr>\n",
       "  </tbody>\n",
       "</table>\n",
       "</div>"
      ],
      "text/plain": [
       "   A.0_ID flood wave shape    A.1_Bmax  A.1_Brate  A.1_pfail    A.2_Bmax  \\\n",
       "0                    126.0  223.622426        1.0   0.871722  218.831042   \n",
       "1                     79.0  298.108524        1.0   0.100861  232.253542   \n",
       "2                     80.0  275.541284       10.0   0.200497  229.990714   \n",
       "3                     15.0  200.546816        1.0   0.000321  281.785818   \n",
       "4                    120.0  312.688358        1.5   0.202780  334.804942   \n",
       "\n",
       "   A.2_Brate  A.2_pfail    A.3_Bmax  A.3_Brate  A.3_pfail    A.4_Bmax  \\\n",
       "0        1.0   0.705490  237.027027       10.0   0.852197  122.745031   \n",
       "1        1.0   0.104278   33.997448        1.5   0.316080  134.287863   \n",
       "2        1.5   0.055838  114.045936        1.5   0.031793  305.444359   \n",
       "3        1.0   0.018157  162.548088        1.0   0.153352  262.402559   \n",
       "4        1.5   0.047327  178.394116        1.5   0.513973   74.210712   \n",
       "\n",
       "   A.4_Brate  A.4_pfail    A.5_Bmax  A.5_Brate  A.5_pfail  \n",
       "0       10.0   0.276320  133.842486        1.0   0.177182  \n",
       "1        1.0   0.254493  206.265410        1.5   0.926149  \n",
       "2        1.5   0.620158  222.904181        1.5   0.273655  \n",
       "3       10.0   0.977910  226.391822        1.0   0.277829  \n",
       "4        1.5   0.565032  199.306059        1.5   0.960193  "
      ]
     },
     "execution_count": 5,
     "metadata": {},
     "output_type": "execute_result"
    }
   ],
   "source": [
    "experiments.head()"
   ]
  },
  {
   "cell_type": "markdown",
   "metadata": {},
   "source": [
    "## Deaths"
   ]
  },
  {
   "cell_type": "markdown",
   "metadata": {
    "ExecuteTime": {
     "end_time": "2021-06-04T10:30:32.193117Z",
     "start_time": "2021-06-04T10:30:32.177809Z"
    }
   },
   "source": [
    "In this section analysis are performed on the simulated number of deaths by the dike_function.py model"
   ]
  },
  {
   "cell_type": "markdown",
   "metadata": {},
   "source": [
    "### Total deaths in dikering 5"
   ]
  },
  {
   "cell_type": "code",
   "execution_count": 6,
   "metadata": {
    "ExecuteTime": {
     "end_time": "2021-06-10T09:27:45.765808Z",
     "start_time": "2021-06-10T09:27:38.687563Z"
    }
   },
   "outputs": [],
   "source": [
    "data = outcomes_total_dikerings_load_DF['A.5_Total Expected Number of Deaths']\n",
    "\n",
    "#five times smaller than desirable risk by Dutch government:\n",
    "#(1/100000) times citizens of Deventer (+/- 100000 in jan 2019) / 5\n",
    "y = data < 1/5\n",
    "\n",
    "prim_alg = prim.Prim(experiments,y, threshold=0.8)\n",
    "\n",
    "box1 = prim_alg.find_box()"
   ]
  },
  {
   "cell_type": "markdown",
   "metadata": {},
   "source": [
    "#### Treshold of Dutch government"
   ]
  },
  {
   "cell_type": "code",
   "execution_count": 7,
   "metadata": {
    "ExecuteTime": {
     "end_time": "2021-06-10T09:27:48.999967Z",
     "start_time": "2021-06-10T09:27:48.704598Z"
    }
   },
   "outputs": [
    {
     "data": {
      "image/png": "[encoded data removed]",
      "text/plain": [
       "<Figure size 432x288 with 2 Axes>"
      ]
     },
     "metadata": {
      "needs_background": "light"
     },
     "output_type": "display_data"
    }
   ],
   "source": [
    "box1.show_tradeoff()\n",
    "plt.show()"
   ]
  },
  {
   "cell_type": "code",
   "execution_count": 8,
   "metadata": {
    "ExecuteTime": {
     "end_time": "2021-06-10T09:27:51.721722Z",
     "start_time": "2021-06-10T09:27:51.705740Z"
    }
   },
   "outputs": [
    {
     "name": "stdout",
     "output_type": "stream",
     "text": [
      "coverage          1\n",
      "density     0.99761\n",
      "id                0\n",
      "mass              1\n",
      "mean        0.99761\n",
      "res_dim           0\n",
      "Name: 0, dtype: object\n",
      "\n",
      "Empty DataFrame\n",
      "Columns: [(box 0, min), (box 0, max), (box 0, qp values)]\n",
      "Index: []\n",
      "\n"
     ]
    }
   ],
   "source": [
    "box1.inspect(0)"
   ]
  },
  {
   "cell_type": "code",
   "execution_count": 9,
   "metadata": {
    "ExecuteTime": {
     "end_time": "2021-06-10T09:27:56.056426Z",
     "start_time": "2021-06-10T09:27:55.856235Z"
    }
   },
   "outputs": [
    {
     "data": {
      "image/png": "[encoded data removed]",
      "text/plain": [
       "<Figure size 432x288 with 1 Axes>"
      ]
     },
     "metadata": {
      "needs_background": "light"
     },
     "output_type": "display_data"
    }
   ],
   "source": [
    "box1.inspect(1,style='graph')\n",
    "plt.show()"
   ]
  },
  {
   "cell_type": "code",
   "execution_count": 10,
   "metadata": {
    "ExecuteTime": {
     "end_time": "2021-06-10T09:27:58.470276Z",
     "start_time": "2021-06-10T09:27:58.433375Z"
    }
   },
   "outputs": [],
   "source": [
    "box1.select(1)"
   ]
  },
  {
   "cell_type": "code",
   "execution_count": 11,
   "metadata": {
    "ExecuteTime": {
     "end_time": "2021-06-10T09:27:59.510555Z",
     "start_time": "2021-06-10T09:27:59.101393Z"
    }
   },
   "outputs": [
    {
     "data": {
      "image/png": "[encoded data removed]",
      "text/plain": [
       "<Figure size 241.25x180 with 2 Axes>"
      ]
     },
     "metadata": {
      "needs_background": "light"
     },
     "output_type": "display_data"
    }
   ],
   "source": [
    "fig = box1.show_pairs_scatter()"
   ]
  },
  {
   "cell_type": "markdown",
   "metadata": {},
   "source": [
    "Analysis: the outcomes of the model suggest that in dikering 5 causialties will remain far under the treshold of the Dutch goverment in the observed scenarios and policies when the pfail fo the dike is 0.05 or higher. Even without constrains the causilties will meet the treshold. This implies that most of the observered policies will hold under the scenarios."
   ]
  },
  {
   "cell_type": "markdown",
   "metadata": {},
   "source": [
    "#### Dimensinal stacking"
   ]
  },
  {
   "cell_type": "code",
   "execution_count": 20,
   "metadata": {
    "ExecuteTime": {
     "end_time": "2021-06-09T07:19:15.081749Z",
     "start_time": "2021-06-09T07:19:07.730636Z"
    }
   },
   "outputs": [
    {
     "name": "stderr",
     "output_type": "stream",
     "text": [
      "c:\\program files (x86)\\python37-32\\lib\\site-packages\\ema_workbench\\analysis\\dimensional_stacking.py:404: FutureWarning: Support for multi-dimensional indexing (e.g. `obj[:, None]`) is deprecated and will be removed in a future version.  Convert to a numpy array before indexing instead.\n",
      "  ooi = pd.DataFrame(y[:, np.newaxis], columns=[ooi_label])\n"
     ]
    },
    {
     "data": {
      "image/png": "[encoded data removed]",
      "text/plain": [
       "<Figure size 720x720 with 4 Axes>"
      ]
     },
     "metadata": {},
     "output_type": "display_data"
    }
   ],
   "source": [
    "dimensional_stacking.create_pivot_plot(experiments, y)\n",
    "plt.show()"
   ]
  },
  {
   "cell_type": "markdown",
   "metadata": {
    "ExecuteTime": {
     "end_time": "2021-06-04T08:33:57.919430Z",
     "start_time": "2021-06-04T08:33:57.905435Z"
    }
   },
   "source": [
    "### Total deaths in all the dikerings"
   ]
  },
  {
   "cell_type": "code",
   "execution_count": 12,
   "metadata": {
    "ExecuteTime": {
     "end_time": "2021-06-10T09:28:34.470821Z",
     "start_time": "2021-06-10T09:28:34.407985Z"
    }
   },
   "outputs": [
    {
     "data": {
      "text/html": [
       "<div>\n",
       "<style scoped>\n",
       "    .dataframe tbody tr th:only-of-type {\n",
       "        vertical-align: middle;\n",
       "    }\n",
       "\n",
       "    .dataframe tbody tr th {\n",
       "        vertical-align: top;\n",
       "    }\n",
       "\n",
       "    .dataframe thead th {\n",
       "        text-align: right;\n",
       "    }\n",
       "</style>\n",
       "<table border=\"1\" class=\"dataframe\">\n",
       "  <thead>\n",
       "    <tr style=\"text-align: right;\">\n",
       "      <th></th>\n",
       "      <th>Unnamed: 0</th>\n",
       "      <th>Unnamed: 0.1</th>\n",
       "      <th>A.1_Expected Total Damage</th>\n",
       "      <th>A.1_Total Dike Investment Costs</th>\n",
       "      <th>A.1_Total Expected Number of Deaths</th>\n",
       "      <th>A.2_Expected Total Damage</th>\n",
       "      <th>A.2_Total Dike Investment Costs</th>\n",
       "      <th>A.2_Total Expected Number of Deaths</th>\n",
       "      <th>A.3_Expected Total Damage</th>\n",
       "      <th>A.3_Total Dike Investment Costs</th>\n",
       "      <th>A.3_Total Expected Number of Deaths</th>\n",
       "      <th>A.4_Expected Total Damage</th>\n",
       "      <th>A.4_Total Dike Investment Costs</th>\n",
       "      <th>A.4_Total Expected Number of Deaths</th>\n",
       "      <th>A.5_Expected Total Damage</th>\n",
       "      <th>A.5_Total Dike Investment Costs</th>\n",
       "      <th>A.5_Total Expected Number of Deaths</th>\n",
       "      <th>RfR Total Costs</th>\n",
       "      <th>Total Expected Evacuation Costs</th>\n",
       "      <th>Other Areas Total Number of Deaths</th>\n",
       "      <th>Other Areas Total Dike Investment Costs</th>\n",
       "      <th>Other Areas Total Damage</th>\n",
       "      <th>Total Deaths</th>\n",
       "      <th>Expected Total Damage</th>\n",
       "      <th>Total Investment Costs</th>\n",
       "    </tr>\n",
       "  </thead>\n",
       "  <tbody>\n",
       "    <tr>\n",
       "      <th>0</th>\n",
       "      <td>0</td>\n",
       "      <td>0</td>\n",
       "      <td>0.0</td>\n",
       "      <td>2.369736e+08</td>\n",
       "      <td>0.0</td>\n",
       "      <td>0.0</td>\n",
       "      <td>1.741921e+08</td>\n",
       "      <td>0.0</td>\n",
       "      <td>0.000000e+00</td>\n",
       "      <td>1.242050e+08</td>\n",
       "      <td>0.000000</td>\n",
       "      <td>0.0</td>\n",
       "      <td>2.416243e+07</td>\n",
       "      <td>0.0</td>\n",
       "      <td>1.018132e+06</td>\n",
       "      <td>1.342366e+08</td>\n",
       "      <td>0.000253</td>\n",
       "      <td>1.397700e+09</td>\n",
       "      <td>23.209601</td>\n",
       "      <td>0.000000</td>\n",
       "      <td>5.595331e+08</td>\n",
       "      <td>0.000000e+00</td>\n",
       "      <td>0.000253</td>\n",
       "      <td>1.018132e+06</td>\n",
       "      <td>6.937698e+08</td>\n",
       "    </tr>\n",
       "    <tr>\n",
       "      <th>1</th>\n",
       "      <td>1</td>\n",
       "      <td>1</td>\n",
       "      <td>0.0</td>\n",
       "      <td>2.369736e+08</td>\n",
       "      <td>0.0</td>\n",
       "      <td>0.0</td>\n",
       "      <td>1.741921e+08</td>\n",
       "      <td>0.0</td>\n",
       "      <td>3.036115e+06</td>\n",
       "      <td>1.242050e+08</td>\n",
       "      <td>0.001489</td>\n",
       "      <td>0.0</td>\n",
       "      <td>2.416243e+07</td>\n",
       "      <td>0.0</td>\n",
       "      <td>0.000000e+00</td>\n",
       "      <td>1.342366e+08</td>\n",
       "      <td>0.000000</td>\n",
       "      <td>1.397700e+09</td>\n",
       "      <td>48.414519</td>\n",
       "      <td>0.001489</td>\n",
       "      <td>5.595331e+08</td>\n",
       "      <td>3.036115e+06</td>\n",
       "      <td>0.001489</td>\n",
       "      <td>3.036115e+06</td>\n",
       "      <td>6.937698e+08</td>\n",
       "    </tr>\n",
       "    <tr>\n",
       "      <th>2</th>\n",
       "      <td>2</td>\n",
       "      <td>2</td>\n",
       "      <td>0.0</td>\n",
       "      <td>2.369736e+08</td>\n",
       "      <td>0.0</td>\n",
       "      <td>0.0</td>\n",
       "      <td>1.741921e+08</td>\n",
       "      <td>0.0</td>\n",
       "      <td>1.740958e+08</td>\n",
       "      <td>1.242050e+08</td>\n",
       "      <td>0.128044</td>\n",
       "      <td>0.0</td>\n",
       "      <td>2.416243e+07</td>\n",
       "      <td>0.0</td>\n",
       "      <td>0.000000e+00</td>\n",
       "      <td>1.342366e+08</td>\n",
       "      <td>0.000000</td>\n",
       "      <td>1.397700e+09</td>\n",
       "      <td>5057.037941</td>\n",
       "      <td>0.128044</td>\n",
       "      <td>5.595331e+08</td>\n",
       "      <td>1.740958e+08</td>\n",
       "      <td>0.128044</td>\n",
       "      <td>1.740958e+08</td>\n",
       "      <td>6.937698e+08</td>\n",
       "    </tr>\n",
       "    <tr>\n",
       "      <th>3</th>\n",
       "      <td>3</td>\n",
       "      <td>3</td>\n",
       "      <td>0.0</td>\n",
       "      <td>2.369736e+08</td>\n",
       "      <td>0.0</td>\n",
       "      <td>0.0</td>\n",
       "      <td>1.741921e+08</td>\n",
       "      <td>0.0</td>\n",
       "      <td>2.703954e+07</td>\n",
       "      <td>1.242050e+08</td>\n",
       "      <td>0.013140</td>\n",
       "      <td>0.0</td>\n",
       "      <td>2.416243e+07</td>\n",
       "      <td>0.0</td>\n",
       "      <td>0.000000e+00</td>\n",
       "      <td>1.342366e+08</td>\n",
       "      <td>0.000000</td>\n",
       "      <td>1.397700e+09</td>\n",
       "      <td>435.421645</td>\n",
       "      <td>0.013140</td>\n",
       "      <td>5.595331e+08</td>\n",
       "      <td>2.703954e+07</td>\n",
       "      <td>0.013140</td>\n",
       "      <td>2.703954e+07</td>\n",
       "      <td>6.937698e+08</td>\n",
       "    </tr>\n",
       "    <tr>\n",
       "      <th>4</th>\n",
       "      <td>4</td>\n",
       "      <td>4</td>\n",
       "      <td>0.0</td>\n",
       "      <td>2.369736e+08</td>\n",
       "      <td>0.0</td>\n",
       "      <td>0.0</td>\n",
       "      <td>1.741921e+08</td>\n",
       "      <td>0.0</td>\n",
       "      <td>0.000000e+00</td>\n",
       "      <td>1.242050e+08</td>\n",
       "      <td>0.000000</td>\n",
       "      <td>0.0</td>\n",
       "      <td>2.416243e+07</td>\n",
       "      <td>0.0</td>\n",
       "      <td>0.000000e+00</td>\n",
       "      <td>1.342366e+08</td>\n",
       "      <td>0.000000</td>\n",
       "      <td>1.397700e+09</td>\n",
       "      <td>0.000000</td>\n",
       "      <td>0.000000</td>\n",
       "      <td>5.595331e+08</td>\n",
       "      <td>0.000000e+00</td>\n",
       "      <td>0.000000</td>\n",
       "      <td>0.000000e+00</td>\n",
       "      <td>6.937698e+08</td>\n",
       "    </tr>\n",
       "  </tbody>\n",
       "</table>\n",
       "</div>"
      ],
      "text/plain": [
       "   Unnamed: 0  Unnamed: 0.1  A.1_Expected Total Damage  \\\n",
       "0           0             0                        0.0   \n",
       "1           1             1                        0.0   \n",
       "2           2             2                        0.0   \n",
       "3           3             3                        0.0   \n",
       "4           4             4                        0.0   \n",
       "\n",
       "   A.1_Total Dike Investment Costs  A.1_Total Expected Number of Deaths  \\\n",
       "0                     2.369736e+08                                  0.0   \n",
       "1                     2.369736e+08                                  0.0   \n",
       "2                     2.369736e+08                                  0.0   \n",
       "3                     2.369736e+08                                  0.0   \n",
       "4                     2.369736e+08                                  0.0   \n",
       "\n",
       "   A.2_Expected Total Damage  A.2_Total Dike Investment Costs  \\\n",
       "0                        0.0                     1.741921e+08   \n",
       "1                        0.0                     1.741921e+08   \n",
       "2                        0.0                     1.741921e+08   \n",
       "3                        0.0                     1.741921e+08   \n",
       "4                        0.0                     1.741921e+08   \n",
       "\n",
       "   A.2_Total Expected Number of Deaths  A.3_Expected Total Damage  \\\n",
       "0                                  0.0               0.000000e+00   \n",
       "1                                  0.0               3.036115e+06   \n",
       "2                                  0.0               1.740958e+08   \n",
       "3                                  0.0               2.703954e+07   \n",
       "4                                  0.0               0.000000e+00   \n",
       "\n",
       "   A.3_Total Dike Investment Costs  A.3_Total Expected Number of Deaths  \\\n",
       "0                     1.242050e+08                             0.000000   \n",
       "1                     1.242050e+08                             0.001489   \n",
       "2                     1.242050e+08                             0.128044   \n",
       "3                     1.242050e+08                             0.013140   \n",
       "4                     1.242050e+08                             0.000000   \n",
       "\n",
       "   A.4_Expected Total Damage  A.4_Total Dike Investment Costs  \\\n",
       "0                        0.0                     2.416243e+07   \n",
       "1                        0.0                     2.416243e+07   \n",
       "2                        0.0                     2.416243e+07   \n",
       "3                        0.0                     2.416243e+07   \n",
       "4                        0.0                     2.416243e+07   \n",
       "\n",
       "   A.4_Total Expected Number of Deaths  A.5_Expected Total Damage  \\\n",
       "0                                  0.0               1.018132e+06   \n",
       "1                                  0.0               0.000000e+00   \n",
       "2                                  0.0               0.000000e+00   \n",
       "3                                  0.0               0.000000e+00   \n",
       "4                                  0.0               0.000000e+00   \n",
       "\n",
       "   A.5_Total Dike Investment Costs  A.5_Total Expected Number of Deaths  \\\n",
       "0                     1.342366e+08                             0.000253   \n",
       "1                     1.342366e+08                             0.000000   \n",
       "2                     1.342366e+08                             0.000000   \n",
       "3                     1.342366e+08                             0.000000   \n",
       "4                     1.342366e+08                             0.000000   \n",
       "\n",
       "   RfR Total Costs  Total Expected Evacuation Costs  \\\n",
       "0     1.397700e+09                        23.209601   \n",
       "1     1.397700e+09                        48.414519   \n",
       "2     1.397700e+09                      5057.037941   \n",
       "3     1.397700e+09                       435.421645   \n",
       "4     1.397700e+09                         0.000000   \n",
       "\n",
       "   Other Areas Total Number of Deaths  \\\n",
       "0                            0.000000   \n",
       "1                            0.001489   \n",
       "2                            0.128044   \n",
       "3                            0.013140   \n",
       "4                            0.000000   \n",
       "\n",
       "   Other Areas Total Dike Investment Costs  Other Areas Total Damage  \\\n",
       "0                             5.595331e+08              0.000000e+00   \n",
       "1                             5.595331e+08              3.036115e+06   \n",
       "2                             5.595331e+08              1.740958e+08   \n",
       "3                             5.595331e+08              2.703954e+07   \n",
       "4                             5.595331e+08              0.000000e+00   \n",
       "\n",
       "   Total Deaths  Expected Total Damage  Total Investment Costs  \n",
       "0      0.000253           1.018132e+06            6.937698e+08  \n",
       "1      0.001489           3.036115e+06            6.937698e+08  \n",
       "2      0.128044           1.740958e+08            6.937698e+08  \n",
       "3      0.013140           2.703954e+07            6.937698e+08  \n",
       "4      0.000000           0.000000e+00            6.937698e+08  "
      ]
     },
     "execution_count": 12,
     "metadata": {},
     "output_type": "execute_result"
    }
   ],
   "source": [
    "outcomes_total_dikerings_load_DF.head()"
   ]
  },
  {
   "cell_type": "markdown",
   "metadata": {},
   "source": [
    "#### Treshold of Dutch government"
   ]
  },
  {
   "cell_type": "code",
   "execution_count": 13,
   "metadata": {
    "ExecuteTime": {
     "end_time": "2021-06-10T09:29:28.769281Z",
     "start_time": "2021-06-10T09:29:07.353952Z"
    }
   },
   "outputs": [],
   "source": [
    "data = outcomes_total_dikerings_load_DF['Total Deaths']\n",
    "\n",
    "# (1/100000) * 163025: treshold of dutch government times citizens of the 5 towns/cities -> 1.6\n",
    "y = data < 1.6\n",
    "# risk five times smaller than desired by Dutch government\n",
    "y1 = data < (y/5)\n",
    "\n",
    "prim_alg_2_1 = prim.Prim(experiments,y1, threshold=0.8)\n",
    "box2_5 = prim_alg_2_1.find_box()"
   ]
  },
  {
   "cell_type": "code",
   "execution_count": 15,
   "metadata": {
    "ExecuteTime": {
     "end_time": "2021-06-10T09:29:38.574074Z",
     "start_time": "2021-06-10T09:29:38.297813Z"
    }
   },
   "outputs": [
    {
     "data": {
      "image/png": "[encoded data removed]",
      "text/plain": [
       "<Figure size 432x288 with 2 Axes>"
      ]
     },
     "metadata": {
      "needs_background": "light"
     },
     "output_type": "display_data"
    }
   ],
   "source": [
    "box2_5.show_tradeoff()\n",
    "plt.show()"
   ]
  },
  {
   "cell_type": "code",
   "execution_count": 16,
   "metadata": {
    "ExecuteTime": {
     "end_time": "2021-06-10T09:29:41.968377Z",
     "start_time": "2021-06-10T09:29:41.949507Z"
    }
   },
   "outputs": [
    {
     "name": "stdout",
     "output_type": "stream",
     "text": [
      "coverage    0.958632\n",
      "density     0.986211\n",
      "id                 1\n",
      "mass            0.95\n",
      "mean        0.986211\n",
      "res_dim            1\n",
      "Name: 1, dtype: object\n",
      "\n",
      "              box 1                                          \n",
      "                min       max                       qp values\n",
      "A.3_pfail  0.050041  0.999575  [1.6879078541838063e-87, -1.0]\n",
      "\n"
     ]
    }
   ],
   "source": [
    "box2_5.inspect(1)"
   ]
  },
  {
   "cell_type": "code",
   "execution_count": 17,
   "metadata": {
    "ExecuteTime": {
     "end_time": "2021-06-10T09:30:07.289689Z",
     "start_time": "2021-06-10T09:30:07.082774Z"
    }
   },
   "outputs": [
    {
     "data": {
      "image/png": "[encoded data removed]",
      "text/plain": [
       "<Figure size 432x288 with 1 Axes>"
      ]
     },
     "metadata": {
      "needs_background": "light"
     },
     "output_type": "display_data"
    }
   ],
   "source": [
    "box2_5.inspect(1,style='graph')\n",
    "plt.show()"
   ]
  },
  {
   "cell_type": "code",
   "execution_count": 18,
   "metadata": {
    "ExecuteTime": {
     "end_time": "2021-06-10T09:30:14.735552Z",
     "start_time": "2021-06-10T09:30:14.708590Z"
    }
   },
   "outputs": [],
   "source": [
    "box2_5.select(1)"
   ]
  },
  {
   "cell_type": "code",
   "execution_count": 19,
   "metadata": {
    "ExecuteTime": {
     "end_time": "2021-06-10T09:30:15.456237Z",
     "start_time": "2021-06-10T09:30:15.056372Z"
    }
   },
   "outputs": [
    {
     "data": {
      "image/png": "[encoded data removed]",
      "text/plain": [
       "<Figure size 241.25x180 with 2 Axes>"
      ]
     },
     "metadata": {
      "needs_background": "light"
     },
     "output_type": "display_data"
    }
   ],
   "source": [
    "fig = box2_5.show_pairs_scatter()"
   ]
  },
  {
   "cell_type": "markdown",
   "metadata": {},
   "source": [
    "Analysis: the results of the prim analysis suggest that the treshold of the Dutch government is met when the pfail of the dike in dikering 3 is higher than 0.05. However, the outcome space without constrains has the best scores on coverage and density. This implies that the policies effectively reduce the number of deaths due to floodings. Further analysis for focussing on dikerings 4 and 5 are not necessary."
   ]
  },
  {
   "cell_type": "markdown",
   "metadata": {},
   "source": [
    "#### Dimensional stacking"
   ]
  },
  {
   "cell_type": "code",
   "execution_count": 34,
   "metadata": {
    "ExecuteTime": {
     "end_time": "2021-06-09T07:20:49.862693Z",
     "start_time": "2021-06-09T07:20:43.961380Z"
    }
   },
   "outputs": [
    {
     "name": "stderr",
     "output_type": "stream",
     "text": [
      "c:\\program files (x86)\\python37-32\\lib\\site-packages\\ema_workbench\\analysis\\dimensional_stacking.py:404: FutureWarning: Support for multi-dimensional indexing (e.g. `obj[:, None]`) is deprecated and will be removed in a future version.  Convert to a numpy array before indexing instead.\n",
      "  ooi = pd.DataFrame(y[:, np.newaxis], columns=[ooi_label])\n"
     ]
    },
    {
     "data": {
      "image/png": "[encoded data removed]",
      "text/plain": [
       "<Figure size 720x720 with 4 Axes>"
      ]
     },
     "metadata": {},
     "output_type": "display_data"
    }
   ],
   "source": [
    "dimensional_stacking.create_pivot_plot(experiments, y)\n",
    "plt.show()"
   ]
  },
  {
   "cell_type": "markdown",
   "metadata": {},
   "source": [
    "## Damage"
   ]
  },
  {
   "cell_type": "markdown",
   "metadata": {},
   "source": [
    "In this section analysis are performed on the simulated number of deaths by the dike_function.py model"
   ]
  },
  {
   "cell_type": "markdown",
   "metadata": {},
   "source": [
    "### Total damage for all dikerings"
   ]
  },
  {
   "cell_type": "code",
   "execution_count": 20,
   "metadata": {
    "ExecuteTime": {
     "end_time": "2021-06-10T09:32:49.870900Z",
     "start_time": "2021-06-10T09:32:49.857908Z"
    }
   },
   "outputs": [],
   "source": [
    "data = outcomes_total_dikerings_load_DF['Expected Total Damage']"
   ]
  },
  {
   "cell_type": "code",
   "execution_count": 21,
   "metadata": {
    "ExecuteTime": {
     "end_time": "2021-06-10T09:32:57.261068Z",
     "start_time": "2021-06-10T09:32:50.278559Z"
    }
   },
   "outputs": [
    {
     "data": {
      "text/plain": [
       "<AxesSubplot:ylabel='Density'>"
      ]
     },
     "execution_count": 21,
     "metadata": {},
     "output_type": "execute_result"
    },
    {
     "data": {
      "image/png": "[encoded data removed]",
      "text/plain": [
       "<Figure size 432x288 with 1 Axes>"
      ]
     },
     "metadata": {
      "needs_background": "light"
     },
     "output_type": "display_data"
    }
   ],
   "source": [
    "data.plot.kde()"
   ]
  },
  {
   "cell_type": "code",
   "execution_count": 22,
   "metadata": {
    "ExecuteTime": {
     "end_time": "2021-06-10T09:33:00.450391Z",
     "start_time": "2021-06-10T09:33:00.422437Z"
    }
   },
   "outputs": [
    {
     "name": "stdout",
     "output_type": "stream",
     "text": [
      "3102449551.0974674\n",
      "0.0\n",
      "0.0\n",
      "42143894.983246095\n"
     ]
    }
   ],
   "source": [
    "data = outcomes_total_dikerings_load_DF['Expected Total Damage']\n",
    "print(data.max())\n",
    "print(data.min())\n",
    "print(data.quantile(.2))\n",
    "print(data.quantile(.8))"
   ]
  },
  {
   "cell_type": "markdown",
   "metadata": {},
   "source": [
    "As treshold we take 441575627 since this is the highest 20% of the damage cases"
   ]
  },
  {
   "cell_type": "code",
   "execution_count": 23,
   "metadata": {
    "ExecuteTime": {
     "end_time": "2021-06-10T09:35:20.975683Z",
     "start_time": "2021-06-10T09:34:07.196877Z"
    }
   },
   "outputs": [],
   "source": [
    "data = outcomes_total_dikerings_load_DF['Expected Total Damage']\n",
    "\n",
    "#is this valid?\n",
    "y = data > 42143894\n",
    "y1 = data <= 0\n",
    "prim_alg_damage_high = prim.Prim(experiments,y, threshold=0.8)\n",
    "prim_alg_damage_low = prim.Prim(experiments,y1, threshold=0.8)\n",
    "\n",
    "box_damage_low = prim_alg_damage_low.find_box()\n",
    "box_damage_high = prim_alg_damage_high.find_box()"
   ]
  },
  {
   "cell_type": "code",
   "execution_count": 47,
   "metadata": {
    "ExecuteTime": {
     "end_time": "2021-06-10T09:51:43.936977Z",
     "start_time": "2021-06-10T09:50:30.902431Z"
    }
   },
   "outputs": [],
   "source": [
    "data = outcomes_total_dikerings_load_DF['Expected Total Damage']\n",
    "\n",
    "y = data > 42143894\n",
    "y1 = data <= 0\n",
    "# tune threshold to get results\n",
    "prim_alg_damage_high = prim.Prim(experiments,y, threshold=0.3)\n",
    "prim_alg_damage_low = prim.Prim(experiments,y1, threshold=0.6)\n",
    "\n",
    "box_damage_low = prim_alg_damage_low.find_box()\n",
    "box_damage_high = prim_alg_damage_high.find_box()"
   ]
  },
  {
   "cell_type": "code",
   "execution_count": 38,
   "metadata": {
    "ExecuteTime": {
     "end_time": "2021-06-10T09:46:19.860788Z",
     "start_time": "2021-06-10T09:46:19.543052Z"
    }
   },
   "outputs": [
    {
     "data": {
      "image/png": "[encoded data removed]",
      "text/plain": [
       "<Figure size 432x288 with 2 Axes>"
      ]
     },
     "metadata": {
      "needs_background": "light"
     },
     "output_type": "display_data"
    }
   ],
   "source": [
    "box_damage_low.show_tradeoff()\n",
    "plt.show()"
   ]
  },
  {
   "cell_type": "code",
   "execution_count": 48,
   "metadata": {
    "ExecuteTime": {
     "end_time": "2021-06-10T09:51:47.621094Z",
     "start_time": "2021-06-10T09:51:47.251066Z"
    }
   },
   "outputs": [
    {
     "data": {
      "image/png": "[encoded data removed]",
      "text/plain": [
       "<Figure size 432x288 with 2 Axes>"
      ]
     },
     "metadata": {
      "needs_background": "light"
     },
     "output_type": "display_data"
    }
   ],
   "source": [
    "box_damage_high.show_tradeoff()\n",
    "plt.show()"
   ]
  },
  {
   "cell_type": "markdown",
   "metadata": {},
   "source": [
    "Analysis: the densities of the observed results are to low to make grounded statements"
   ]
  },
  {
   "cell_type": "markdown",
   "metadata": {
    "ExecuteTime": {
     "end_time": "2021-06-04T12:03:04.906557Z",
     "start_time": "2021-06-04T12:03:04.870377Z"
    }
   },
   "source": [
    "### Total damage dikering 5"
   ]
  },
  {
   "cell_type": "code",
   "execution_count": 74,
   "metadata": {
    "ExecuteTime": {
     "end_time": "2021-06-10T10:00:52.989372Z",
     "start_time": "2021-06-10T10:00:52.974412Z"
    }
   },
   "outputs": [],
   "source": [
    "data = outcomes_total_dikerings_load_DF['A.5_Expected Total Damage']"
   ]
  },
  {
   "cell_type": "code",
   "execution_count": 75,
   "metadata": {
    "ExecuteTime": {
     "end_time": "2021-06-10T10:01:00.330091Z",
     "start_time": "2021-06-10T10:00:53.292509Z"
    }
   },
   "outputs": [
    {
     "data": {
      "text/plain": [
       "<AxesSubplot:ylabel='Density'>"
      ]
     },
     "execution_count": 75,
     "metadata": {},
     "output_type": "execute_result"
    },
    {
     "data": {
      "image/png": "[encoded data removed]",
      "text/plain": [
       "<Figure size 432x288 with 1 Axes>"
      ]
     },
     "metadata": {
      "needs_background": "light"
     },
     "output_type": "display_data"
    }
   ],
   "source": [
    "data.plot.kde()"
   ]
  },
  {
   "cell_type": "code",
   "execution_count": 77,
   "metadata": {
    "ExecuteTime": {
     "end_time": "2021-06-10T10:01:06.059446Z",
     "start_time": "2021-06-10T10:01:06.029437Z"
    }
   },
   "outputs": [
    {
     "name": "stdout",
     "output_type": "stream",
     "text": [
      "980526829.3612797\n",
      "0.0\n",
      "0.0\n",
      "1794800.056251592\n"
     ]
    }
   ],
   "source": [
    "print(data.max())\n",
    "print(data.min())\n",
    "print(data.quantile(.2))\n",
    "print(data.quantile(.8))"
   ]
  },
  {
   "cell_type": "code",
   "execution_count": 52,
   "metadata": {
    "ExecuteTime": {
     "end_time": "2021-06-10T09:53:03.619168Z",
     "start_time": "2021-06-10T09:52:27.342608Z"
    }
   },
   "outputs": [],
   "source": [
    "data = outcomes_total_dikerings_load_DF['A.5_Expected Total Damage']\n",
    "\n",
    "y = data <= 0\n",
    "\n",
    "prim_alg_damage5 = prim.Prim(experiments,y, threshold=0.8)\n",
    "\n",
    "box_damage5 = prim_alg_damage5.find_box()"
   ]
  },
  {
   "cell_type": "code",
   "execution_count": 53,
   "metadata": {
    "ExecuteTime": {
     "end_time": "2021-06-10T09:53:08.930347Z",
     "start_time": "2021-06-10T09:53:08.648496Z"
    }
   },
   "outputs": [
    {
     "data": {
      "image/png": "[encoded data removed]",
      "text/plain": [
       "<Figure size 432x288 with 2 Axes>"
      ]
     },
     "metadata": {
      "needs_background": "light"
     },
     "output_type": "display_data"
    }
   ],
   "source": [
    "box_damage5.show_tradeoff()\n",
    "plt.show()"
   ]
  },
  {
   "cell_type": "code",
   "execution_count": 64,
   "metadata": {
    "ExecuteTime": {
     "end_time": "2021-06-10T09:53:55.538364Z",
     "start_time": "2021-06-10T09:53:55.504455Z"
    }
   },
   "outputs": [
    {
     "name": "stdout",
     "output_type": "stream",
     "text": [
      "coverage    0.979889\n",
      "density     0.805242\n",
      "id                 1\n",
      "mass            0.95\n",
      "mean        0.805242\n",
      "res_dim            1\n",
      "Name: 1, dtype: object\n",
      "\n",
      "              box 1                                         \n",
      "                min       max                      qp values\n",
      "A.5_pfail  0.050016  0.999385  [3.997398663920528e-77, -1.0]\n",
      "\n"
     ]
    }
   ],
   "source": [
    "box_damage5.inspect(1)"
   ]
  },
  {
   "cell_type": "code",
   "execution_count": 65,
   "metadata": {
    "ExecuteTime": {
     "end_time": "2021-06-10T09:53:58.852406Z",
     "start_time": "2021-06-10T09:53:58.662285Z"
    }
   },
   "outputs": [
    {
     "data": {
      "image/png": "[encoded data removed]",
      "text/plain": [
       "<Figure size 432x288 with 1 Axes>"
      ]
     },
     "metadata": {
      "needs_background": "light"
     },
     "output_type": "display_data"
    }
   ],
   "source": [
    "box_damage5.inspect(1,style='graph')\n",
    "plt.show()"
   ]
  },
  {
   "cell_type": "markdown",
   "metadata": {},
   "source": [
    "Analysis: it is seen that the outcomes in which dikering 5 does not observes damage are linked to a \"pfail\" rate of 0.05 or higher. However, most of the outcomes result in no expected damage for Deventer. It appears that implementing policies is effective, and that they hold in most scenario's."
   ]
  },
  {
   "cell_type": "markdown",
   "metadata": {},
   "source": [
    "### Total damage dikering 4"
   ]
  },
  {
   "cell_type": "code",
   "execution_count": 67,
   "metadata": {
    "ExecuteTime": {
     "end_time": "2021-06-10T09:55:08.749421Z",
     "start_time": "2021-06-10T09:55:08.740445Z"
    }
   },
   "outputs": [],
   "source": [
    "data = outcomes_total_dikerings_load_DF['A.4_Expected Total Damage']"
   ]
  },
  {
   "cell_type": "code",
   "execution_count": 68,
   "metadata": {
    "ExecuteTime": {
     "end_time": "2021-06-10T09:55:22.866673Z",
     "start_time": "2021-06-10T09:55:14.836699Z"
    }
   },
   "outputs": [
    {
     "data": {
      "text/plain": [
       "<AxesSubplot:ylabel='Density'>"
      ]
     },
     "execution_count": 68,
     "metadata": {},
     "output_type": "execute_result"
    },
    {
     "data": {
      "image/png": "[encoded data removed]",
      "text/plain": [
       "<Figure size 432x288 with 1 Axes>"
      ]
     },
     "metadata": {
      "needs_background": "light"
     },
     "output_type": "display_data"
    }
   ],
   "source": [
    "data.plot.kde()"
   ]
  },
  {
   "cell_type": "code",
   "execution_count": 69,
   "metadata": {
    "ExecuteTime": {
     "end_time": "2021-06-10T09:55:22.976992Z",
     "start_time": "2021-06-10T09:55:22.952057Z"
    }
   },
   "outputs": [
    {
     "name": "stdout",
     "output_type": "stream",
     "text": [
      "109819154.50774358\n",
      "0.0\n",
      "0.0\n",
      "0.0\n"
     ]
    }
   ],
   "source": [
    "print(data.max())\n",
    "print(data.min())\n",
    "print(data.quantile(.2))\n",
    "print(data.quantile(.8))"
   ]
  },
  {
   "cell_type": "code",
   "execution_count": 70,
   "metadata": {
    "ExecuteTime": {
     "end_time": "2021-06-10T09:56:16.705607Z",
     "start_time": "2021-06-10T09:55:36.542465Z"
    }
   },
   "outputs": [],
   "source": [
    "data = outcomes_total_dikerings_load_DF['A.4_Expected Total Damage']\n",
    "\n",
    "y = data <= 0\n",
    "\n",
    "prim_alg_damage5 = prim.Prim(experiments,y, threshold=0.8)\n",
    "\n",
    "box_damage5 = prim_alg_damage5.find_box()"
   ]
  },
  {
   "cell_type": "code",
   "execution_count": 71,
   "metadata": {
    "ExecuteTime": {
     "end_time": "2021-06-10T09:56:36.967913Z",
     "start_time": "2021-06-10T09:56:36.681166Z"
    }
   },
   "outputs": [
    {
     "data": {
      "image/png": "[encoded data removed]",
      "text/plain": [
       "<Figure size 432x288 with 2 Axes>"
      ]
     },
     "metadata": {
      "needs_background": "light"
     },
     "output_type": "display_data"
    }
   ],
   "source": [
    "box_damage5.show_tradeoff()\n",
    "plt.show()"
   ]
  },
  {
   "cell_type": "code",
   "execution_count": 72,
   "metadata": {
    "ExecuteTime": {
     "end_time": "2021-06-10T09:56:57.453228Z",
     "start_time": "2021-06-10T09:56:57.430258Z"
    }
   },
   "outputs": [
    {
     "name": "stdout",
     "output_type": "stream",
     "text": [
      "coverage    0.980108\n",
      "density     0.839684\n",
      "id                 1\n",
      "mass            0.95\n",
      "mean        0.839684\n",
      "res_dim            1\n",
      "Name: 1, dtype: object\n",
      "\n",
      "              box 1                                         \n",
      "                min      max                       qp values\n",
      "A.4_pfail  0.049746  0.99906  [1.6874970125164384e-96, -1.0]\n",
      "\n"
     ]
    }
   ],
   "source": [
    "box_damage5.inspect(1)"
   ]
  },
  {
   "cell_type": "code",
   "execution_count": 73,
   "metadata": {
    "ExecuteTime": {
     "end_time": "2021-06-10T09:57:06.107609Z",
     "start_time": "2021-06-10T09:57:05.922363Z"
    }
   },
   "outputs": [
    {
     "data": {
      "image/png": "[encoded data removed]",
      "text/plain": [
       "<Figure size 432x288 with 1 Axes>"
      ]
     },
     "metadata": {
      "needs_background": "light"
     },
     "output_type": "display_data"
    }
   ],
   "source": [
    "box_damage5.inspect(1,style='graph')\n",
    "plt.show()"
   ]
  },
  {
   "cell_type": "markdown",
   "metadata": {},
   "source": [
    "Analysis: it is seen that the outcomes in which dikering 4 does not observes damage are linked to a \"pfail\" rate of 0.05 or higher. However, most of the outcomes result in no expected damage for Gorssel. It appears that implementing policies is effective, and that they hold in most scenario's."
   ]
  },
  {
   "cell_type": "code",
   "execution_count": null,
   "metadata": {},
   "outputs": [],
   "source": []
  }
 ],
 "metadata": {
  "kernelspec": {
   "display_name": "Python 3",
   "language": "python",
   "name": "python3"
  },
  "language_info": {
   "codemirror_mode": {
    "name": "ipython",
    "version": 3
   },
   "file_extension": ".py",
   "mimetype": "text/x-python",
   "name": "python",
   "nbconvert_exporter": "python",
   "pygments_lexer": "ipython3",
   "version": "3.7.4"
  },
  "varInspector": {
   "cols": {
    "lenName": 16,
    "lenType": 16,
    "lenVar": 40
   },
   "kernels_config": {
    "python": {
     "delete_cmd_postfix": "",
     "delete_cmd_prefix": "del ",
     "library": "var_list.py",
     "varRefreshCmd": "print(var_dic_list())"
    },
    "r": {
     "delete_cmd_postfix": ") ",
     "delete_cmd_prefix": "rm(",
     "library": "var_list.r",
     "varRefreshCmd": "cat(var_dic_list()) "
    }
   },
   "types_to_exclude": [
    "module",
    "function",
    "builtin_function_or_method",
    "instance",
    "_Feature"
   ],
   "window_display": false
  }
 },
 "nbformat": 4,
 "nbformat_minor": 5
}
