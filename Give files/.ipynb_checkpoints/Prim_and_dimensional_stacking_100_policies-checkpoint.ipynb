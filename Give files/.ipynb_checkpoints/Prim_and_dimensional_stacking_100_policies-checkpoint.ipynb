{
 "cells": [
  {
   "cell_type": "markdown",
   "metadata": {},
   "source": [
    "# Prim and dimensional stacking over 100 policies"
   ]
  },
  {
   "cell_type": "code",
   "execution_count": 2,
   "metadata": {
    "ExecuteTime": {
     "end_time": "2021-06-08T21:39:16.167867Z",
     "start_time": "2021-06-08T21:39:08.480061Z"
    }
   },
   "outputs": [],
   "source": [
    "import pandas as pd\n",
    "from ema_workbench.analysis import prim\n",
    "import matplotlib.pyplot as plt\n",
    "from ema_workbench.analysis import dimensional_stacking"
   ]
  },
  {
   "cell_type": "code",
   "execution_count": 3,
   "metadata": {
    "ExecuteTime": {
     "end_time": "2021-06-08T21:39:18.043322Z",
     "start_time": "2021-06-08T21:39:16.716369Z"
    }
   },
   "outputs": [],
   "source": [
    "experiments = pd.read_csv('Outcomes/Experiments_from_Exploration_1000scenarios_100Policies_pf5.csv')\n",
    "outcomes_total_dikerings_load_DF = pd.read_csv('Outcomes/Proccesed_basecase_fully_aggregated_100000scenarios_pf5.csv')"
   ]
  },
  {
   "cell_type": "code",
   "execution_count": 9,
   "metadata": {
    "ExecuteTime": {
     "end_time": "2021-06-07T14:42:38.288987Z",
     "start_time": "2021-06-07T14:42:38.235654Z"
    }
   },
   "outputs": [
    {
     "data": {
      "text/html": [
       "<div>\n",
       "<style scoped>\n",
       "    .dataframe tbody tr th:only-of-type {\n",
       "        vertical-align: middle;\n",
       "    }\n",
       "\n",
       "    .dataframe tbody tr th {\n",
       "        vertical-align: top;\n",
       "    }\n",
       "\n",
       "    .dataframe thead th {\n",
       "        text-align: right;\n",
       "    }\n",
       "</style>\n",
       "<table border=\"1\" class=\"dataframe\">\n",
       "  <thead>\n",
       "    <tr style=\"text-align: right;\">\n",
       "      <th></th>\n",
       "      <th>Unnamed: 0</th>\n",
       "      <th>A.0_ID flood wave shape</th>\n",
       "      <th>A.1_Bmax</th>\n",
       "      <th>A.1_Brate</th>\n",
       "      <th>A.1_pfail</th>\n",
       "      <th>A.2_Bmax</th>\n",
       "      <th>A.2_Brate</th>\n",
       "      <th>A.2_pfail</th>\n",
       "      <th>A.3_Bmax</th>\n",
       "      <th>A.3_Brate</th>\n",
       "      <th>...</th>\n",
       "      <th>A.3_DikeIncrease 2</th>\n",
       "      <th>A.4_DikeIncrease 0</th>\n",
       "      <th>A.4_DikeIncrease 1</th>\n",
       "      <th>A.4_DikeIncrease 2</th>\n",
       "      <th>A.5_DikeIncrease 0</th>\n",
       "      <th>A.5_DikeIncrease 1</th>\n",
       "      <th>A.5_DikeIncrease 2</th>\n",
       "      <th>EWS_DaysToThreat</th>\n",
       "      <th>policy</th>\n",
       "      <th>model</th>\n",
       "    </tr>\n",
       "  </thead>\n",
       "  <tbody>\n",
       "    <tr>\n",
       "      <th>0</th>\n",
       "      <td>0</td>\n",
       "      <td>126.0</td>\n",
       "      <td>223.622426</td>\n",
       "      <td>1.0</td>\n",
       "      <td>0.871722</td>\n",
       "      <td>218.831042</td>\n",
       "      <td>1.0</td>\n",
       "      <td>0.705490</td>\n",
       "      <td>237.027027</td>\n",
       "      <td>10.0</td>\n",
       "      <td>...</td>\n",
       "      <td>9.0</td>\n",
       "      <td>5.0</td>\n",
       "      <td>0.0</td>\n",
       "      <td>5.0</td>\n",
       "      <td>4.0</td>\n",
       "      <td>8.0</td>\n",
       "      <td>3.0</td>\n",
       "      <td>1.0</td>\n",
       "      <td>0</td>\n",
       "      <td>dikesnet</td>\n",
       "    </tr>\n",
       "    <tr>\n",
       "      <th>1</th>\n",
       "      <td>1</td>\n",
       "      <td>79.0</td>\n",
       "      <td>298.108524</td>\n",
       "      <td>1.0</td>\n",
       "      <td>0.100861</td>\n",
       "      <td>232.253542</td>\n",
       "      <td>1.0</td>\n",
       "      <td>0.104278</td>\n",
       "      <td>33.997448</td>\n",
       "      <td>1.5</td>\n",
       "      <td>...</td>\n",
       "      <td>9.0</td>\n",
       "      <td>5.0</td>\n",
       "      <td>0.0</td>\n",
       "      <td>5.0</td>\n",
       "      <td>4.0</td>\n",
       "      <td>8.0</td>\n",
       "      <td>3.0</td>\n",
       "      <td>1.0</td>\n",
       "      <td>0</td>\n",
       "      <td>dikesnet</td>\n",
       "    </tr>\n",
       "    <tr>\n",
       "      <th>2</th>\n",
       "      <td>2</td>\n",
       "      <td>80.0</td>\n",
       "      <td>275.541284</td>\n",
       "      <td>10.0</td>\n",
       "      <td>0.200497</td>\n",
       "      <td>229.990714</td>\n",
       "      <td>1.5</td>\n",
       "      <td>0.055838</td>\n",
       "      <td>114.045936</td>\n",
       "      <td>1.5</td>\n",
       "      <td>...</td>\n",
       "      <td>9.0</td>\n",
       "      <td>5.0</td>\n",
       "      <td>0.0</td>\n",
       "      <td>5.0</td>\n",
       "      <td>4.0</td>\n",
       "      <td>8.0</td>\n",
       "      <td>3.0</td>\n",
       "      <td>1.0</td>\n",
       "      <td>0</td>\n",
       "      <td>dikesnet</td>\n",
       "    </tr>\n",
       "    <tr>\n",
       "      <th>3</th>\n",
       "      <td>3</td>\n",
       "      <td>15.0</td>\n",
       "      <td>200.546816</td>\n",
       "      <td>1.0</td>\n",
       "      <td>0.000321</td>\n",
       "      <td>281.785818</td>\n",
       "      <td>1.0</td>\n",
       "      <td>0.018157</td>\n",
       "      <td>162.548088</td>\n",
       "      <td>1.0</td>\n",
       "      <td>...</td>\n",
       "      <td>9.0</td>\n",
       "      <td>5.0</td>\n",
       "      <td>0.0</td>\n",
       "      <td>5.0</td>\n",
       "      <td>4.0</td>\n",
       "      <td>8.0</td>\n",
       "      <td>3.0</td>\n",
       "      <td>1.0</td>\n",
       "      <td>0</td>\n",
       "      <td>dikesnet</td>\n",
       "    </tr>\n",
       "    <tr>\n",
       "      <th>4</th>\n",
       "      <td>4</td>\n",
       "      <td>120.0</td>\n",
       "      <td>312.688358</td>\n",
       "      <td>1.5</td>\n",
       "      <td>0.202780</td>\n",
       "      <td>334.804942</td>\n",
       "      <td>1.5</td>\n",
       "      <td>0.047327</td>\n",
       "      <td>178.394116</td>\n",
       "      <td>1.5</td>\n",
       "      <td>...</td>\n",
       "      <td>9.0</td>\n",
       "      <td>5.0</td>\n",
       "      <td>0.0</td>\n",
       "      <td>5.0</td>\n",
       "      <td>4.0</td>\n",
       "      <td>8.0</td>\n",
       "      <td>3.0</td>\n",
       "      <td>1.0</td>\n",
       "      <td>0</td>\n",
       "      <td>dikesnet</td>\n",
       "    </tr>\n",
       "  </tbody>\n",
       "</table>\n",
       "<p>5 rows × 53 columns</p>\n",
       "</div>"
      ],
      "text/plain": [
       "   Unnamed: 0  A.0_ID flood wave shape    A.1_Bmax  A.1_Brate  A.1_pfail  \\\n",
       "0           0                    126.0  223.622426        1.0   0.871722   \n",
       "1           1                     79.0  298.108524        1.0   0.100861   \n",
       "2           2                     80.0  275.541284       10.0   0.200497   \n",
       "3           3                     15.0  200.546816        1.0   0.000321   \n",
       "4           4                    120.0  312.688358        1.5   0.202780   \n",
       "\n",
       "     A.2_Bmax  A.2_Brate  A.2_pfail    A.3_Bmax  A.3_Brate  ...  \\\n",
       "0  218.831042        1.0   0.705490  237.027027       10.0  ...   \n",
       "1  232.253542        1.0   0.104278   33.997448        1.5  ...   \n",
       "2  229.990714        1.5   0.055838  114.045936        1.5  ...   \n",
       "3  281.785818        1.0   0.018157  162.548088        1.0  ...   \n",
       "4  334.804942        1.5   0.047327  178.394116        1.5  ...   \n",
       "\n",
       "   A.3_DikeIncrease 2  A.4_DikeIncrease 0  A.4_DikeIncrease 1  \\\n",
       "0                 9.0                 5.0                 0.0   \n",
       "1                 9.0                 5.0                 0.0   \n",
       "2                 9.0                 5.0                 0.0   \n",
       "3                 9.0                 5.0                 0.0   \n",
       "4                 9.0                 5.0                 0.0   \n",
       "\n",
       "   A.4_DikeIncrease 2  A.5_DikeIncrease 0  A.5_DikeIncrease 1  \\\n",
       "0                 5.0                 4.0                 8.0   \n",
       "1                 5.0                 4.0                 8.0   \n",
       "2                 5.0                 4.0                 8.0   \n",
       "3                 5.0                 4.0                 8.0   \n",
       "4                 5.0                 4.0                 8.0   \n",
       "\n",
       "   A.5_DikeIncrease 2  EWS_DaysToThreat  policy     model  \n",
       "0                 3.0               1.0       0  dikesnet  \n",
       "1                 3.0               1.0       0  dikesnet  \n",
       "2                 3.0               1.0       0  dikesnet  \n",
       "3                 3.0               1.0       0  dikesnet  \n",
       "4                 3.0               1.0       0  dikesnet  \n",
       "\n",
       "[5 rows x 53 columns]"
      ]
     },
     "execution_count": 9,
     "metadata": {},
     "output_type": "execute_result"
    }
   ],
   "source": [
    "experiments.head()"
   ]
  },
  {
   "cell_type": "markdown",
   "metadata": {},
   "source": [
    "## Deaths"
   ]
  },
  {
   "cell_type": "markdown",
   "metadata": {
    "ExecuteTime": {
     "end_time": "2021-06-04T10:30:32.193117Z",
     "start_time": "2021-06-04T10:30:32.177809Z"
    }
   },
   "source": [
    "In this section analysis are performed on the simulated number of deaths by the dike_function.py model"
   ]
  },
  {
   "cell_type": "markdown",
   "metadata": {},
   "source": [
    "### Total deaths in dikering 5"
   ]
  },
  {
   "cell_type": "code",
   "execution_count": 3,
   "metadata": {
    "ExecuteTime": {
     "end_time": "2021-06-07T13:48:06.883874Z",
     "start_time": "2021-06-07T13:47:02.383772Z"
    }
   },
   "outputs": [],
   "source": [
    "data = outcomes_total_dikerings_load_DF['A.5_Total Expected Number of Deaths']\n",
    "\n",
    "#five times smaller than desirable risk by Dutch government:\n",
    "#(1/100000) times citizens of Deventer (+/- 100000 in jan 2019) / 5\n",
    "y = data < 1/5\n",
    "#risk twenty-five times smaller than desirable risk by Dutch government (1/100000) times citizens of Deventer (+/- 100000 in jan 2019)\n",
    "y5 = data < (y/5)\n",
    "\n",
    "prim_alg = prim.Prim(experiments,y, threshold=0.8)\n",
    "prim_alg5 = prim.Prim(experiments,y5, threshold=0.8)\n",
    "\n",
    "box1 = prim_alg.find_box()\n",
    "box1_5 = prim_alg5.find_box()"
   ]
  },
  {
   "cell_type": "markdown",
   "metadata": {},
   "source": [
    "#### Treshold of Dutch government"
   ]
  },
  {
   "cell_type": "code",
   "execution_count": 4,
   "metadata": {
    "ExecuteTime": {
     "end_time": "2021-06-07T13:48:24.068412Z",
     "start_time": "2021-06-07T13:48:23.733739Z"
    }
   },
   "outputs": [
    {
     "data": {
      "image/png": "[encoded data removed]",
      "text/plain": [
       "<Figure size 432x288 with 2 Axes>"
      ]
     },
     "metadata": {
      "needs_background": "light"
     },
     "output_type": "display_data"
    }
   ],
   "source": [
    "box1.show_tradeoff()\n",
    "plt.show()"
   ]
  },
  {
   "cell_type": "code",
   "execution_count": 5,
   "metadata": {
    "ExecuteTime": {
     "end_time": "2021-06-07T13:48:25.965799Z",
     "start_time": "2021-06-07T13:48:25.933736Z"
    }
   },
   "outputs": [
    {
     "name": "stdout",
     "output_type": "stream",
     "text": [
      "coverage          1\n",
      "density     0.99761\n",
      "id                0\n",
      "mass              1\n",
      "mean        0.99761\n",
      "res_dim           0\n",
      "Name: 0, dtype: object\n",
      "\n",
      "Empty DataFrame\n",
      "Columns: [(box 0, min), (box 0, max), (box 0, qp values)]\n",
      "Index: []\n",
      "\n"
     ]
    }
   ],
   "source": [
    "box1.inspect(0)"
   ]
  },
  {
   "cell_type": "code",
   "execution_count": 6,
   "metadata": {
    "ExecuteTime": {
     "end_time": "2021-06-07T13:48:28.633516Z",
     "start_time": "2021-06-07T13:48:28.403785Z"
    }
   },
   "outputs": [
    {
     "data": {
      "image/png": "[encoded data removed]",
      "text/plain": [
       "<Figure size 432x288 with 1 Axes>"
      ]
     },
     "metadata": {
      "needs_background": "light"
     },
     "output_type": "display_data"
    }
   ],
   "source": [
    "box1.inspect(1,style='graph')\n",
    "plt.show()"
   ]
  },
  {
   "cell_type": "code",
   "execution_count": 7,
   "metadata": {
    "ExecuteTime": {
     "end_time": "2021-06-07T13:48:31.163671Z",
     "start_time": "2021-06-07T13:48:31.123666Z"
    }
   },
   "outputs": [],
   "source": [
    "box1.select(1)"
   ]
  },
  {
   "cell_type": "code",
   "execution_count": 8,
   "metadata": {
    "ExecuteTime": {
     "end_time": "2021-06-07T13:48:32.375109Z",
     "start_time": "2021-06-07T13:48:31.983548Z"
    }
   },
   "outputs": [
    {
     "data": {
      "image/png": "[encoded data removed]",
      "text/plain": [
       "<Figure size 241.25x180 with 2 Axes>"
      ]
     },
     "metadata": {
      "needs_background": "light"
     },
     "output_type": "display_data"
    }
   ],
   "source": [
    "fig = box1.show_pairs_scatter()"
   ]
  },
  {
   "cell_type": "markdown",
   "metadata": {},
   "source": [
    "Analysis: the outcomes of the model suggest that in dikering 5 causialties will remain far under the treshold of the Dutch goverment in the observed scenarios and policies when the pfail fo the dike is 0.05 or higher. Even without constrains the causilties will meet the treshold. This implies that most of the observered policies will hold under the scenarios."
   ]
  },
  {
   "cell_type": "markdown",
   "metadata": {},
   "source": [
    "#### Risk five times smaller than treshold of Dutch government"
   ]
  },
  {
   "cell_type": "code",
   "execution_count": 9,
   "metadata": {
    "ExecuteTime": {
     "end_time": "2021-06-07T13:48:35.180334Z",
     "start_time": "2021-06-07T13:48:34.933316Z"
    }
   },
   "outputs": [
    {
     "data": {
      "image/png": "[encoded data removed]",
      "text/plain": [
       "<Figure size 432x288 with 2 Axes>"
      ]
     },
     "metadata": {
      "needs_background": "light"
     },
     "output_type": "display_data"
    }
   ],
   "source": [
    "box1_5.show_tradeoff()\n",
    "plt.show()"
   ]
  },
  {
   "cell_type": "code",
   "execution_count": 10,
   "metadata": {
    "ExecuteTime": {
     "end_time": "2021-06-07T13:48:37.023396Z",
     "start_time": "2021-06-07T13:48:36.998636Z"
    }
   },
   "outputs": [
    {
     "name": "stdout",
     "output_type": "stream",
     "text": [
      "coverage    0.951885\n",
      "density     0.999589\n",
      "id                 1\n",
      "mass            0.95\n",
      "mean        0.999589\n",
      "res_dim            1\n",
      "Name: 1, dtype: object\n",
      "\n",
      "              box 1                                         \n",
      "                min       max                      qp values\n",
      "A.5_pfail  0.050016  0.999385  [9.395242332143101e-54, -1.0]\n",
      "\n"
     ]
    }
   ],
   "source": [
    "box1.inspect(1)"
   ]
  },
  {
   "cell_type": "code",
   "execution_count": 11,
   "metadata": {
    "ExecuteTime": {
     "end_time": "2021-06-07T13:48:38.643731Z",
     "start_time": "2021-06-07T13:48:38.443683Z"
    }
   },
   "outputs": [
    {
     "data": {
      "image/png": "[encoded data removed]",
      "text/plain": [
       "<Figure size 432x288 with 1 Axes>"
      ]
     },
     "metadata": {
      "needs_background": "light"
     },
     "output_type": "display_data"
    }
   ],
   "source": [
    "box1.inspect(1,style='graph')\n",
    "plt.show()"
   ]
  },
  {
   "cell_type": "markdown",
   "metadata": {},
   "source": [
    "Analysis: the outcomes of the model suggest that in dikering 5 causialties will remain far under the treshold of the Dutch goverment in the observed scenarios and policies when the pfail fo the dike is 0.05 or higher. Even without constrains the causilties will meet the treshold. This implies that most of the observered policies will hold under the scenarios."
   ]
  },
  {
   "cell_type": "markdown",
   "metadata": {},
   "source": [
    "#### Dimensinal stacking"
   ]
  },
  {
   "cell_type": "code",
   "execution_count": 12,
   "metadata": {
    "ExecuteTime": {
     "end_time": "2021-06-07T13:48:50.739000Z",
     "start_time": "2021-06-07T13:48:41.503643Z"
    }
   },
   "outputs": [
    {
     "name": "stderr",
     "output_type": "stream",
     "text": [
      "c:\\program files (x86)\\python37-32\\lib\\site-packages\\ema_workbench\\analysis\\dimensional_stacking.py:404: FutureWarning: Support for multi-dimensional indexing (e.g. `obj[:, None]`) is deprecated and will be removed in a future version.  Convert to a numpy array before indexing instead.\n",
      "  ooi = pd.DataFrame(y[:, np.newaxis], columns=[ooi_label])\n"
     ]
    },
    {
     "data": {
      "image/png": "[encoded data removed]",
      "text/plain": [
       "<Figure size 720x720 with 4 Axes>"
      ]
     },
     "metadata": {},
     "output_type": "display_data"
    }
   ],
   "source": [
    "dimensional_stacking.create_pivot_plot(experiments, y)\n",
    "plt.show()"
   ]
  },
  {
   "cell_type": "markdown",
   "metadata": {
    "ExecuteTime": {
     "end_time": "2021-06-04T08:33:57.919430Z",
     "start_time": "2021-06-04T08:33:57.905435Z"
    }
   },
   "source": [
    "### Total deaths in all the dikerings"
   ]
  },
  {
   "cell_type": "code",
   "execution_count": 14,
   "metadata": {
    "ExecuteTime": {
     "end_time": "2021-06-07T13:49:53.313462Z",
     "start_time": "2021-06-07T13:49:53.233497Z"
    }
   },
   "outputs": [
    {
     "data": {
      "text/html": [
       "<div>\n",
       "<style scoped>\n",
       "    .dataframe tbody tr th:only-of-type {\n",
       "        vertical-align: middle;\n",
       "    }\n",
       "\n",
       "    .dataframe tbody tr th {\n",
       "        vertical-align: top;\n",
       "    }\n",
       "\n",
       "    .dataframe thead th {\n",
       "        text-align: right;\n",
       "    }\n",
       "</style>\n",
       "<table border=\"1\" class=\"dataframe\">\n",
       "  <thead>\n",
       "    <tr style=\"text-align: right;\">\n",
       "      <th></th>\n",
       "      <th>Unnamed: 0</th>\n",
       "      <th>Unnamed: 0.1</th>\n",
       "      <th>A.1_Expected Total Damage</th>\n",
       "      <th>A.1_Total Dike Investment Costs</th>\n",
       "      <th>A.1_Total Expected Number of Deaths</th>\n",
       "      <th>A.2_Expected Total Damage</th>\n",
       "      <th>A.2_Total Dike Investment Costs</th>\n",
       "      <th>A.2_Total Expected Number of Deaths</th>\n",
       "      <th>A.3_Expected Total Damage</th>\n",
       "      <th>A.3_Total Dike Investment Costs</th>\n",
       "      <th>...</th>\n",
       "      <th>A.5_Total Dike Investment Costs</th>\n",
       "      <th>A.5_Total Expected Number of Deaths</th>\n",
       "      <th>RfR Total Costs</th>\n",
       "      <th>Total Expected Evacuation Costs</th>\n",
       "      <th>Other Areas Total Number of Deaths</th>\n",
       "      <th>Other Areas Total Dike Investment Costs</th>\n",
       "      <th>Other Areas Total Damage</th>\n",
       "      <th>Total Deaths</th>\n",
       "      <th>Expected Total Damage</th>\n",
       "      <th>Total Investment Costs</th>\n",
       "    </tr>\n",
       "  </thead>\n",
       "  <tbody>\n",
       "    <tr>\n",
       "      <th>0</th>\n",
       "      <td>0</td>\n",
       "      <td>0</td>\n",
       "      <td>0.0</td>\n",
       "      <td>2.369736e+08</td>\n",
       "      <td>0.0</td>\n",
       "      <td>0.0</td>\n",
       "      <td>1.741921e+08</td>\n",
       "      <td>0.0</td>\n",
       "      <td>0.000000e+00</td>\n",
       "      <td>1.242050e+08</td>\n",
       "      <td>...</td>\n",
       "      <td>1.342366e+08</td>\n",
       "      <td>0.000253</td>\n",
       "      <td>1.397700e+09</td>\n",
       "      <td>23.209601</td>\n",
       "      <td>0.000000</td>\n",
       "      <td>5.595331e+08</td>\n",
       "      <td>0.000000e+00</td>\n",
       "      <td>0.000253</td>\n",
       "      <td>1.018132e+06</td>\n",
       "      <td>6.937698e+08</td>\n",
       "    </tr>\n",
       "    <tr>\n",
       "      <th>1</th>\n",
       "      <td>1</td>\n",
       "      <td>1</td>\n",
       "      <td>0.0</td>\n",
       "      <td>2.369736e+08</td>\n",
       "      <td>0.0</td>\n",
       "      <td>0.0</td>\n",
       "      <td>1.741921e+08</td>\n",
       "      <td>0.0</td>\n",
       "      <td>3.036115e+06</td>\n",
       "      <td>1.242050e+08</td>\n",
       "      <td>...</td>\n",
       "      <td>1.342366e+08</td>\n",
       "      <td>0.000000</td>\n",
       "      <td>1.397700e+09</td>\n",
       "      <td>48.414519</td>\n",
       "      <td>0.001489</td>\n",
       "      <td>5.595331e+08</td>\n",
       "      <td>3.036115e+06</td>\n",
       "      <td>0.001489</td>\n",
       "      <td>3.036115e+06</td>\n",
       "      <td>6.937698e+08</td>\n",
       "    </tr>\n",
       "    <tr>\n",
       "      <th>2</th>\n",
       "      <td>2</td>\n",
       "      <td>2</td>\n",
       "      <td>0.0</td>\n",
       "      <td>2.369736e+08</td>\n",
       "      <td>0.0</td>\n",
       "      <td>0.0</td>\n",
       "      <td>1.741921e+08</td>\n",
       "      <td>0.0</td>\n",
       "      <td>1.740958e+08</td>\n",
       "      <td>1.242050e+08</td>\n",
       "      <td>...</td>\n",
       "      <td>1.342366e+08</td>\n",
       "      <td>0.000000</td>\n",
       "      <td>1.397700e+09</td>\n",
       "      <td>5057.037941</td>\n",
       "      <td>0.128044</td>\n",
       "      <td>5.595331e+08</td>\n",
       "      <td>1.740958e+08</td>\n",
       "      <td>0.128044</td>\n",
       "      <td>1.740958e+08</td>\n",
       "      <td>6.937698e+08</td>\n",
       "    </tr>\n",
       "    <tr>\n",
       "      <th>3</th>\n",
       "      <td>3</td>\n",
       "      <td>3</td>\n",
       "      <td>0.0</td>\n",
       "      <td>2.369736e+08</td>\n",
       "      <td>0.0</td>\n",
       "      <td>0.0</td>\n",
       "      <td>1.741921e+08</td>\n",
       "      <td>0.0</td>\n",
       "      <td>2.703954e+07</td>\n",
       "      <td>1.242050e+08</td>\n",
       "      <td>...</td>\n",
       "      <td>1.342366e+08</td>\n",
       "      <td>0.000000</td>\n",
       "      <td>1.397700e+09</td>\n",
       "      <td>435.421645</td>\n",
       "      <td>0.013140</td>\n",
       "      <td>5.595331e+08</td>\n",
       "      <td>2.703954e+07</td>\n",
       "      <td>0.013140</td>\n",
       "      <td>2.703954e+07</td>\n",
       "      <td>6.937698e+08</td>\n",
       "    </tr>\n",
       "    <tr>\n",
       "      <th>4</th>\n",
       "      <td>4</td>\n",
       "      <td>4</td>\n",
       "      <td>0.0</td>\n",
       "      <td>2.369736e+08</td>\n",
       "      <td>0.0</td>\n",
       "      <td>0.0</td>\n",
       "      <td>1.741921e+08</td>\n",
       "      <td>0.0</td>\n",
       "      <td>0.000000e+00</td>\n",
       "      <td>1.242050e+08</td>\n",
       "      <td>...</td>\n",
       "      <td>1.342366e+08</td>\n",
       "      <td>0.000000</td>\n",
       "      <td>1.397700e+09</td>\n",
       "      <td>0.000000</td>\n",
       "      <td>0.000000</td>\n",
       "      <td>5.595331e+08</td>\n",
       "      <td>0.000000e+00</td>\n",
       "      <td>0.000000</td>\n",
       "      <td>0.000000e+00</td>\n",
       "      <td>6.937698e+08</td>\n",
       "    </tr>\n",
       "  </tbody>\n",
       "</table>\n",
       "<p>5 rows × 25 columns</p>\n",
       "</div>"
      ],
      "text/plain": [
       "   Unnamed: 0  Unnamed: 0.1  A.1_Expected Total Damage  \\\n",
       "0           0             0                        0.0   \n",
       "1           1             1                        0.0   \n",
       "2           2             2                        0.0   \n",
       "3           3             3                        0.0   \n",
       "4           4             4                        0.0   \n",
       "\n",
       "   A.1_Total Dike Investment Costs  A.1_Total Expected Number of Deaths  \\\n",
       "0                     2.369736e+08                                  0.0   \n",
       "1                     2.369736e+08                                  0.0   \n",
       "2                     2.369736e+08                                  0.0   \n",
       "3                     2.369736e+08                                  0.0   \n",
       "4                     2.369736e+08                                  0.0   \n",
       "\n",
       "   A.2_Expected Total Damage  A.2_Total Dike Investment Costs  \\\n",
       "0                        0.0                     1.741921e+08   \n",
       "1                        0.0                     1.741921e+08   \n",
       "2                        0.0                     1.741921e+08   \n",
       "3                        0.0                     1.741921e+08   \n",
       "4                        0.0                     1.741921e+08   \n",
       "\n",
       "   A.2_Total Expected Number of Deaths  A.3_Expected Total Damage  \\\n",
       "0                                  0.0               0.000000e+00   \n",
       "1                                  0.0               3.036115e+06   \n",
       "2                                  0.0               1.740958e+08   \n",
       "3                                  0.0               2.703954e+07   \n",
       "4                                  0.0               0.000000e+00   \n",
       "\n",
       "   A.3_Total Dike Investment Costs  ...  A.5_Total Dike Investment Costs  \\\n",
       "0                     1.242050e+08  ...                     1.342366e+08   \n",
       "1                     1.242050e+08  ...                     1.342366e+08   \n",
       "2                     1.242050e+08  ...                     1.342366e+08   \n",
       "3                     1.242050e+08  ...                     1.342366e+08   \n",
       "4                     1.242050e+08  ...                     1.342366e+08   \n",
       "\n",
       "   A.5_Total Expected Number of Deaths  RfR Total Costs  \\\n",
       "0                             0.000253     1.397700e+09   \n",
       "1                             0.000000     1.397700e+09   \n",
       "2                             0.000000     1.397700e+09   \n",
       "3                             0.000000     1.397700e+09   \n",
       "4                             0.000000     1.397700e+09   \n",
       "\n",
       "   Total Expected Evacuation Costs  Other Areas Total Number of Deaths  \\\n",
       "0                        23.209601                            0.000000   \n",
       "1                        48.414519                            0.001489   \n",
       "2                      5057.037941                            0.128044   \n",
       "3                       435.421645                            0.013140   \n",
       "4                         0.000000                            0.000000   \n",
       "\n",
       "   Other Areas Total Dike Investment Costs  Other Areas Total Damage  \\\n",
       "0                             5.595331e+08              0.000000e+00   \n",
       "1                             5.595331e+08              3.036115e+06   \n",
       "2                             5.595331e+08              1.740958e+08   \n",
       "3                             5.595331e+08              2.703954e+07   \n",
       "4                             5.595331e+08              0.000000e+00   \n",
       "\n",
       "   Total Deaths  Expected Total Damage  Total Investment Costs  \n",
       "0      0.000253           1.018132e+06            6.937698e+08  \n",
       "1      0.001489           3.036115e+06            6.937698e+08  \n",
       "2      0.128044           1.740958e+08            6.937698e+08  \n",
       "3      0.013140           2.703954e+07            6.937698e+08  \n",
       "4      0.000000           0.000000e+00            6.937698e+08  \n",
       "\n",
       "[5 rows x 25 columns]"
      ]
     },
     "execution_count": 14,
     "metadata": {},
     "output_type": "execute_result"
    }
   ],
   "source": [
    "outcomes_total_dikerings_load_DF.head()"
   ]
  },
  {
   "cell_type": "markdown",
   "metadata": {},
   "source": [
    "#### Treshold of Dutch government"
   ]
  },
  {
   "cell_type": "code",
   "execution_count": 15,
   "metadata": {
    "ExecuteTime": {
     "end_time": "2021-06-07T13:51:32.253311Z",
     "start_time": "2021-06-07T13:49:54.683721Z"
    }
   },
   "outputs": [],
   "source": [
    "data = outcomes_total_dikerings_load_DF['Total Deaths']\n",
    "\n",
    "# (1/100000) * 163025: treshold of dutch government times citizens of the 5 towns/cities -> 1.6\n",
    "y = data < 1.6\n",
    "# risk five times smaller than desired by Dutch government\n",
    "y1 = data < (y/5)\n",
    "\n",
    "\n",
    "prim_alg_2 = prim.Prim(experiments,y, threshold=0.8)\n",
    "prim_alg_2_1 = prim.Prim(experiments,y1, threshold=0.8)\n",
    "box2 = prim_alg_2.find_box()\n",
    "box2_5 = prim_alg_2_1.find_box()"
   ]
  },
  {
   "cell_type": "code",
   "execution_count": 16,
   "metadata": {
    "ExecuteTime": {
     "end_time": "2021-06-07T13:52:38.423964Z",
     "start_time": "2021-06-07T13:52:38.143762Z"
    }
   },
   "outputs": [
    {
     "data": {
      "image/png": "[encoded data removed]",
      "text/plain": [
       "<Figure size 432x288 with 2 Axes>"
      ]
     },
     "metadata": {
      "needs_background": "light"
     },
     "output_type": "display_data"
    }
   ],
   "source": [
    "box2.show_tradeoff()\n",
    "plt.show()"
   ]
  },
  {
   "cell_type": "code",
   "execution_count": 17,
   "metadata": {
    "ExecuteTime": {
     "end_time": "2021-06-07T13:52:40.123743Z",
     "start_time": "2021-06-07T13:52:40.083663Z"
    }
   },
   "outputs": [
    {
     "name": "stdout",
     "output_type": "stream",
     "text": [
      "coverage    0.950371\n",
      "density            1\n",
      "id                 1\n",
      "mass            0.95\n",
      "mean               1\n",
      "res_dim            1\n",
      "Name: 1, dtype: object\n",
      "\n",
      "              box 1                                         \n",
      "                min       max                      qp values\n",
      "A.3_pfail  0.050041  0.999575  [8.058439697118387e-17, -1.0]\n",
      "\n"
     ]
    }
   ],
   "source": [
    "box2.inspect(1)"
   ]
  },
  {
   "cell_type": "code",
   "execution_count": 18,
   "metadata": {
    "ExecuteTime": {
     "end_time": "2021-06-07T13:52:41.323718Z",
     "start_time": "2021-06-07T13:52:41.133461Z"
    }
   },
   "outputs": [
    {
     "data": {
      "image/png": "[encoded data removed]",
      "text/plain": [
       "<Figure size 432x288 with 1 Axes>"
      ]
     },
     "metadata": {
      "needs_background": "light"
     },
     "output_type": "display_data"
    }
   ],
   "source": [
    "box2.inspect(1,style='graph')\n",
    "plt.show()"
   ]
  },
  {
   "cell_type": "code",
   "execution_count": 19,
   "metadata": {
    "ExecuteTime": {
     "end_time": "2021-06-07T13:52:43.273813Z",
     "start_time": "2021-06-07T13:52:43.238361Z"
    }
   },
   "outputs": [],
   "source": [
    "box2.select(1)"
   ]
  },
  {
   "cell_type": "code",
   "execution_count": 20,
   "metadata": {
    "ExecuteTime": {
     "end_time": "2021-06-07T13:52:44.493677Z",
     "start_time": "2021-06-07T13:52:44.087413Z"
    }
   },
   "outputs": [
    {
     "data": {
      "image/png": "[encoded data removed]",
      "text/plain": [
       "<Figure size 241.25x180 with 2 Axes>"
      ]
     },
     "metadata": {
      "needs_background": "light"
     },
     "output_type": "display_data"
    }
   ],
   "source": [
    "fig = box2.show_pairs_scatter()"
   ]
  },
  {
   "cell_type": "markdown",
   "metadata": {},
   "source": [
    "Analysis: the results of the prim analysis suggest that the treshold of the Dutch government is met when the pfail of the dike in dikering 3 is higher than 0.05."
   ]
  },
  {
   "cell_type": "markdown",
   "metadata": {},
   "source": [
    "#### Risk five times smaller than treshold of Dutch government"
   ]
  },
  {
   "cell_type": "code",
   "execution_count": 21,
   "metadata": {
    "ExecuteTime": {
     "end_time": "2021-06-07T13:52:46.819216Z",
     "start_time": "2021-06-07T13:52:46.487737Z"
    }
   },
   "outputs": [
    {
     "data": {
      "image/png": "[encoded data removed]",
      "text/plain": [
       "<Figure size 432x288 with 2 Axes>"
      ]
     },
     "metadata": {
      "needs_background": "light"
     },
     "output_type": "display_data"
    }
   ],
   "source": [
    "box2_5.show_tradeoff()\n",
    "plt.show()"
   ]
  },
  {
   "cell_type": "code",
   "execution_count": 29,
   "metadata": {
    "ExecuteTime": {
     "end_time": "2021-06-07T13:53:14.558626Z",
     "start_time": "2021-06-07T13:53:14.533480Z"
    }
   },
   "outputs": [
    {
     "name": "stdout",
     "output_type": "stream",
     "text": [
      "coverage    0.826855\n",
      "density     0.993985\n",
      "id                 4\n",
      "mass           0.813\n",
      "mean        0.993985\n",
      "res_dim            3\n",
      "Name: 4, dtype: object\n",
      "\n",
      "              box 4                                           \n",
      "                min       max                        qp values\n",
      "A.3_pfail  0.097908  0.999575  [1.5003107292061505e-197, -1.0]\n",
      "A.2_pfail  0.052245  0.999817   [1.3166723723045604e-15, -1.0]\n",
      "A.5_pfail  0.050016  0.999385    [4.106714985867267e-13, -1.0]\n",
      "\n"
     ]
    }
   ],
   "source": [
    "box2_5.inspect(4)"
   ]
  },
  {
   "cell_type": "code",
   "execution_count": 28,
   "metadata": {
    "ExecuteTime": {
     "end_time": "2021-06-07T13:53:06.887664Z",
     "start_time": "2021-06-07T13:53:06.583663Z"
    }
   },
   "outputs": [
    {
     "data": {
      "image/png": "[encoded data removed]",
      "text/plain": [
       "<Figure size 432x288 with 1 Axes>"
      ]
     },
     "metadata": {
      "needs_background": "light"
     },
     "output_type": "display_data"
    }
   ],
   "source": [
    "box2_5.inspect(4,style='graph')\n",
    "plt.show()"
   ]
  },
  {
   "cell_type": "code",
   "execution_count": 30,
   "metadata": {
    "ExecuteTime": {
     "end_time": "2021-06-07T13:53:33.893493Z",
     "start_time": "2021-06-07T13:53:33.853552Z"
    }
   },
   "outputs": [],
   "source": [
    "box2_5.select(1)"
   ]
  },
  {
   "cell_type": "code",
   "execution_count": 31,
   "metadata": {
    "ExecuteTime": {
     "end_time": "2021-06-07T13:53:35.073642Z",
     "start_time": "2021-06-07T13:53:34.674235Z"
    }
   },
   "outputs": [
    {
     "data": {
      "image/png": "[encoded data removed]",
      "text/plain": [
       "<Figure size 241.25x180 with 2 Axes>"
      ]
     },
     "metadata": {
      "needs_background": "light"
     },
     "output_type": "display_data"
    }
   ],
   "source": [
    "fig = box2_5.show_pairs_scatter()"
   ]
  },
  {
   "cell_type": "markdown",
   "metadata": {},
   "source": [
    "Analysis: when the treshold is made five times smaller than used by the Dutch government, it is found that the pfail of dikerings 2,3&5 have to meet certain standards. However, these pfails minimums are very low which implies that policies can reduce the expected number of causilities."
   ]
  },
  {
   "cell_type": "markdown",
   "metadata": {},
   "source": [
    "#### Dimensional stacking"
   ]
  },
  {
   "cell_type": "code",
   "execution_count": 32,
   "metadata": {
    "ExecuteTime": {
     "end_time": "2021-06-07T13:53:45.763508Z",
     "start_time": "2021-06-07T13:53:37.663660Z"
    }
   },
   "outputs": [
    {
     "name": "stderr",
     "output_type": "stream",
     "text": [
      "c:\\program files (x86)\\python37-32\\lib\\site-packages\\ema_workbench\\analysis\\dimensional_stacking.py:404: FutureWarning: Support for multi-dimensional indexing (e.g. `obj[:, None]`) is deprecated and will be removed in a future version.  Convert to a numpy array before indexing instead.\n",
      "  ooi = pd.DataFrame(y[:, np.newaxis], columns=[ooi_label])\n"
     ]
    },
    {
     "data": {
      "image/png": "[encoded data removed]",
      "text/plain": [
       "<Figure size 720x720 with 4 Axes>"
      ]
     },
     "metadata": {},
     "output_type": "display_data"
    }
   ],
   "source": [
    "dimensional_stacking.create_pivot_plot(experiments, y)\n",
    "plt.show()"
   ]
  },
  {
   "cell_type": "markdown",
   "metadata": {},
   "source": [
    "## Damage"
   ]
  },
  {
   "cell_type": "markdown",
   "metadata": {},
   "source": [
    "In this section analysis are performed on the simulated number of deaths by the dike_function.py model"
   ]
  },
  {
   "cell_type": "markdown",
   "metadata": {},
   "source": [
    "### Total damage for all dikerings"
   ]
  },
  {
   "cell_type": "code",
   "execution_count": 33,
   "metadata": {
    "ExecuteTime": {
     "end_time": "2021-06-07T13:53:52.633583Z",
     "start_time": "2021-06-07T13:53:52.623577Z"
    }
   },
   "outputs": [],
   "source": [
    "data = outcomes_total_dikerings_load_DF['Expected Total Damage']"
   ]
  },
  {
   "cell_type": "code",
   "execution_count": 66,
   "metadata": {
    "ExecuteTime": {
     "end_time": "2021-06-07T12:52:04.287682Z",
     "start_time": "2021-06-07T12:51:57.417667Z"
    }
   },
   "outputs": [
    {
     "data": {
      "text/plain": [
       "<AxesSubplot:ylabel='Density'>"
      ]
     },
     "execution_count": 66,
     "metadata": {},
     "output_type": "execute_result"
    },
    {
     "data": {
      "image/png": "[encoded data removed]",
      "text/plain": [
       "<Figure size 432x288 with 1 Axes>"
      ]
     },
     "metadata": {
      "needs_background": "light"
     },
     "output_type": "display_data"
    }
   ],
   "source": [
    "data.plot.kde()"
   ]
  },
  {
   "cell_type": "code",
   "execution_count": 76,
   "metadata": {
    "ExecuteTime": {
     "end_time": "2021-06-07T13:46:08.613646Z",
     "start_time": "2021-06-07T13:46:08.583581Z"
    }
   },
   "outputs": [
    {
     "name": "stdout",
     "output_type": "stream",
     "text": [
      "3102449551.0974674\n",
      "0.0\n",
      "0.0\n"
     ]
    }
   ],
   "source": [
    "data = outcomes_total_dikerings_load_DF['Expected Total Damage']\n",
    "print(data.max())\n",
    "print(data.min())\n",
    "print(data.quantile(.2))"
   ]
  },
  {
   "cell_type": "markdown",
   "metadata": {},
   "source": [
    "As treshold we take 441575627.8723845 since this is the lowest 20% of the damage cases"
   ]
  },
  {
   "cell_type": "code",
   "execution_count": 3,
   "metadata": {
    "ExecuteTime": {
     "end_time": "2021-06-07T14:16:28.685013Z",
     "start_time": "2021-06-07T14:15:14.024956Z"
    }
   },
   "outputs": [],
   "source": [
    "data = outcomes_total_dikerings_load_DF['A.5_Expected Total Damage']\n",
    "\n",
    "#is this valid?\n",
    "y = data < 2000000\n",
    "#y = data > 20000000\n",
    "#y = data > 242382297.91068038\n",
    "prim_alg_damage = prim.Prim(experiments,y, threshold=0.8)\n",
    "\n",
    "box_damage = prim_alg_damage.find_box()"
   ]
  },
  {
   "cell_type": "code",
   "execution_count": 4,
   "metadata": {
    "ExecuteTime": {
     "end_time": "2021-06-07T14:16:31.745270Z",
     "start_time": "2021-06-07T14:16:31.395098Z"
    }
   },
   "outputs": [
    {
     "data": {
      "image/png": "[encoded data removed]",
      "text/plain": [
       "<Figure size 432x288 with 2 Axes>"
      ]
     },
     "metadata": {
      "needs_background": "light"
     },
     "output_type": "display_data"
    }
   ],
   "source": [
    "box_damage.show_tradeoff()\n",
    "plt.show()"
   ]
  },
  {
   "cell_type": "code",
   "execution_count": 7,
   "metadata": {
    "ExecuteTime": {
     "end_time": "2021-06-07T14:16:51.624947Z",
     "start_time": "2021-06-07T14:16:51.605296Z"
    }
   },
   "outputs": [
    {
     "name": "stdout",
     "output_type": "stream",
     "text": [
      "coverage    0.902625\n",
      "density     0.896879\n",
      "id                 3\n",
      "mass          0.8075\n",
      "mean        0.896879\n",
      "res_dim            3\n",
      "Name: 3, dtype: object\n",
      "\n",
      "                       box 3                                            \n",
      "                         min        max                        qp values\n",
      "A.5_DikeIncrease 0  0.500000  10.000000   [4.403028301691433e-143, -1.0]\n",
      "A.5_DikeIncrease 1  0.500000  10.000000   [5.917248530394669e-110, -1.0]\n",
      "A.5_pfail           0.050016   0.999385  [3.5609516720980164e-106, -1.0]\n",
      "\n"
     ]
    }
   ],
   "source": [
    "box_damage.inspect(3)"
   ]
  },
  {
   "cell_type": "code",
   "execution_count": 8,
   "metadata": {
    "ExecuteTime": {
     "end_time": "2021-06-07T14:16:58.894026Z",
     "start_time": "2021-06-07T14:16:58.615062Z"
    }
   },
   "outputs": [
    {
     "data": {
      "image/png": "[encoded data removed]",
      "text/plain": [
       "<Figure size 432x288 with 1 Axes>"
      ]
     },
     "metadata": {
      "needs_background": "light"
     },
     "output_type": "display_data"
    }
   ],
   "source": [
    "box_damage.inspect(3,style='graph')\n",
    "plt.show()"
   ]
  },
  {
   "cell_type": "markdown",
   "metadata": {},
   "source": [
    "Analysis: the total damage is minimized when the pfail of the dikering 5 is bigger than 0.05. As well the dikering increase is higher than 0.5 in both timestep 0 and 1"
   ]
  },
  {
   "cell_type": "markdown",
   "metadata": {
    "ExecuteTime": {
     "end_time": "2021-06-04T12:03:04.906557Z",
     "start_time": "2021-06-04T12:03:04.870377Z"
    }
   },
   "source": [
    "### Total damage dikering 5"
   ]
  },
  {
   "cell_type": "code",
   "execution_count": 4,
   "metadata": {
    "ExecuteTime": {
     "end_time": "2021-06-08T21:39:23.127337Z",
     "start_time": "2021-06-08T21:39:23.108287Z"
    }
   },
   "outputs": [],
   "source": [
    "data = outcomes_total_dikerings_load_DF['A.5_Expected Total Damage']"
   ]
  },
  {
   "cell_type": "code",
   "execution_count": 5,
   "metadata": {
    "ExecuteTime": {
     "end_time": "2021-06-08T21:39:32.084669Z",
     "start_time": "2021-06-08T21:39:24.247897Z"
    }
   },
   "outputs": [
    {
     "data": {
      "text/plain": [
       "<AxesSubplot:ylabel='Density'>"
      ]
     },
     "execution_count": 5,
     "metadata": {},
     "output_type": "execute_result"
    },
    {
     "data": {
      "image/png": "[encoded data removed]",
      "text/plain": [
       "<Figure size 432x288 with 1 Axes>"
      ]
     },
     "metadata": {
      "needs_background": "light"
     },
     "output_type": "display_data"
    }
   ],
   "source": [
    "data.plot.kde()"
   ]
  },
  {
   "cell_type": "code",
   "execution_count": 6,
   "metadata": {
    "ExecuteTime": {
     "end_time": "2021-06-08T21:39:35.339555Z",
     "start_time": "2021-06-08T21:39:35.321600Z"
    }
   },
   "outputs": [
    {
     "name": "stdout",
     "output_type": "stream",
     "text": [
      "980526829.3612797\n",
      "0.0\n",
      "0.0\n"
     ]
    }
   ],
   "source": [
    "print(data.max())\n",
    "print(data.min())\n",
    "print(data.quantile(.2))"
   ]
  },
  {
   "cell_type": "code",
   "execution_count": 7,
   "metadata": {
    "ExecuteTime": {
     "end_time": "2021-06-08T21:41:17.092958Z",
     "start_time": "2021-06-08T21:39:36.624872Z"
    }
   },
   "outputs": [],
   "source": [
    "data = outcomes_total_dikerings_load_DF['A.5_Expected Total Damage']\n",
    "\n",
    "y = data > 0\n",
    "\n",
    "prim_alg_damage5 = prim.Prim(experiments,y, threshold=0.8)\n",
    "\n",
    "box_damage5 = prim_alg_damage5.find_box()"
   ]
  },
  {
   "cell_type": "code",
   "execution_count": 8,
   "metadata": {
    "ExecuteTime": {
     "end_time": "2021-06-08T21:42:00.476101Z",
     "start_time": "2021-06-08T21:42:00.164071Z"
    }
   },
   "outputs": [
    {
     "data": {
      "image/png": "[encoded data removed]",
      "text/plain": [
       "<Figure size 432x288 with 2 Axes>"
      ]
     },
     "metadata": {
      "needs_background": "light"
     },
     "output_type": "display_data"
    }
   ],
   "source": [
    "box_damage5.show_tradeoff()\n",
    "plt.show()"
   ]
  },
  {
   "cell_type": "code",
   "execution_count": 14,
   "metadata": {
    "ExecuteTime": {
     "end_time": "2021-06-08T21:42:34.798945Z",
     "start_time": "2021-06-08T21:42:34.769025Z"
    }
   },
   "outputs": [
    {
     "name": "stdout",
     "output_type": "stream",
     "text": [
      "coverage    0.591237\n",
      "density     0.807158\n",
      "id                19\n",
      "mass         0.16065\n",
      "mean        0.807158\n",
      "res_dim            3\n",
      "Name: 19, dtype: object\n",
      "\n",
      "                      box 19                                       \n",
      "                         min        max                   qp values\n",
      "A.5_pfail           0.000993   0.594911                 [-1.0, 0.0]\n",
      "A.5_DikeIncrease 0  0.000000   2.500000                 [-1.0, 0.0]\n",
      "A.4_DikeIncrease 0  0.500000  10.000000  [0.4983663254256442, -1.0]\n",
      "\n"
     ]
    }
   ],
   "source": [
    "box_damage5.inspect(19)"
   ]
  },
  {
   "cell_type": "code",
   "execution_count": 15,
   "metadata": {
    "ExecuteTime": {
     "end_time": "2021-06-08T21:42:44.008018Z",
     "start_time": "2021-06-08T21:42:43.669921Z"
    }
   },
   "outputs": [
    {
     "data": {
      "image/png": "[encoded data removed]",
      "text/plain": [
       "<Figure size 432x288 with 1 Axes>"
      ]
     },
     "metadata": {
      "needs_background": "light"
     },
     "output_type": "display_data"
    }
   ],
   "source": [
    "box_damage5.inspect(19,style='graph')\n",
    "plt.show()"
   ]
  },
  {
   "cell_type": "markdown",
   "metadata": {},
   "source": [
    "Analysis: it is seen that dikering 5 observes damage when dikerings 4 increasis its dikes by more than 0.5 and dikerings 5 does increase its dike by not more than 2.5. ALso the p_fail of dikering 5 has to be lower than 0.59"
   ]
  },
  {
   "cell_type": "markdown",
   "metadata": {},
   "source": [
    "## Questions"
   ]
  },
  {
   "cell_type": "markdown",
   "metadata": {},
   "source": [
    "- Can we use policy parameters (levers) in the prim analysis as well or should I exclude them.\n",
    "- Also look to dikering 4?\n"
   ]
  },
  {
   "cell_type": "code",
   "execution_count": null,
   "metadata": {},
   "outputs": [],
   "source": []
  }
 ],
 "metadata": {
  "kernelspec": {
   "display_name": "Python 3",
   "language": "python",
   "name": "python3"
  },
  "language_info": {
   "codemirror_mode": {
    "name": "ipython",
    "version": 3
   },
   "file_extension": ".py",
   "mimetype": "text/x-python",
   "name": "python",
   "nbconvert_exporter": "python",
   "pygments_lexer": "ipython3",
   "version": "3.7.4"
  },
  "varInspector": {
   "cols": {
    "lenName": 16,
    "lenType": 16,
    "lenVar": 40
   },
   "kernels_config": {
    "python": {
     "delete_cmd_postfix": "",
     "delete_cmd_prefix": "del ",
     "library": "var_list.py",
     "varRefreshCmd": "print(var_dic_list())"
    },
    "r": {
     "delete_cmd_postfix": ") ",
     "delete_cmd_prefix": "rm(",
     "library": "var_list.r",
     "varRefreshCmd": "cat(var_dic_list()) "
    }
   },
   "types_to_exclude": [
    "module",
    "function",
    "builtin_function_or_method",
    "instance",
    "_Feature"
   ],
   "window_display": false
  }
 },
 "nbformat": 4,
 "nbformat_minor": 5
}
