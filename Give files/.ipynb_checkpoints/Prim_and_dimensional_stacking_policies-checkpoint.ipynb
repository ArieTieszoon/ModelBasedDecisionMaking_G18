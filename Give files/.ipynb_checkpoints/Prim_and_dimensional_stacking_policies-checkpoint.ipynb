{
 "cells": [
  {
   "cell_type": "markdown",
   "metadata": {},
   "source": [
    "# Prim and dimensional stacking on policies"
   ]
  },
  {
   "cell_type": "markdown",
   "metadata": {},
   "source": [
    "Notebook used to play around with prim analysis for interesting policies"
   ]
  },
  {
   "cell_type": "code",
   "execution_count": 35,
   "metadata": {
    "ExecuteTime": {
     "end_time": "2021-06-16T21:50:58.295206Z",
     "start_time": "2021-06-16T21:50:58.285233Z"
    }
   },
   "outputs": [],
   "source": [
    "import pandas as pd\n",
    "from ema_workbench.analysis import prim\n",
    "import matplotlib.pyplot as plt\n",
    "from ema_workbench.analysis import dimensional_stacking"
   ]
  },
  {
   "cell_type": "code",
   "execution_count": 36,
   "metadata": {
    "ExecuteTime": {
     "end_time": "2021-06-16T21:50:59.548646Z",
     "start_time": "2021-06-16T21:50:58.766497Z"
    }
   },
   "outputs": [],
   "source": [
    "experiments = pd.read_csv('Outcomes/reevaluation_promising_experiments.csv')\n",
    "outcomes_total_dikerings_load_DF = pd.read_csv('Outcomes/reevaluation_promising_policies_results.csv')"
   ]
  },
  {
   "cell_type": "code",
   "execution_count": 37,
   "metadata": {
    "ExecuteTime": {
     "end_time": "2021-06-16T21:51:00.208403Z",
     "start_time": "2021-06-16T21:51:00.196919Z"
    }
   },
   "outputs": [],
   "source": [
    "pd.set_option('display.max_columns', 500)"
   ]
  },
  {
   "cell_type": "code",
   "execution_count": 38,
   "metadata": {
    "ExecuteTime": {
     "end_time": "2021-06-16T21:51:00.858050Z",
     "start_time": "2021-06-16T21:51:00.829893Z"
    }
   },
   "outputs": [],
   "source": [
    "experiments = experiments[experiments['policy'].isin(['scenario option 47', 'scenario option 70'])]\n",
    "experiments.reset_index(inplace = True, drop = True)"
   ]
  },
  {
   "cell_type": "code",
   "execution_count": 39,
   "metadata": {
    "ExecuteTime": {
     "end_time": "2021-06-16T21:51:01.500347Z",
     "start_time": "2021-06-16T21:51:01.487869Z"
    }
   },
   "outputs": [
    {
     "data": {
      "text/plain": [
       "(2000, 54)"
      ]
     },
     "execution_count": 39,
     "metadata": {},
     "output_type": "execute_result"
    }
   ],
   "source": [
    "experiments.shape"
   ]
  },
  {
   "cell_type": "code",
   "execution_count": 40,
   "metadata": {
    "ExecuteTime": {
     "end_time": "2021-06-16T21:51:02.238306Z",
     "start_time": "2021-06-16T21:51:02.215858Z"
    }
   },
   "outputs": [],
   "source": [
    "list_of_policies = experiments['Unnamed: 0'].to_list()\n",
    "experiments.reset_index(inplace = True, drop = True)\n",
    "experiments.drop(columns = ['Unnamed: 0'], inplace = True)"
   ]
  },
  {
   "cell_type": "code",
   "execution_count": 41,
   "metadata": {
    "ExecuteTime": {
     "end_time": "2021-06-16T21:51:02.930469Z",
     "start_time": "2021-06-16T21:51:02.885823Z"
    }
   },
   "outputs": [
    {
     "data": {
      "text/html": [
       "<div>\n",
       "<style scoped>\n",
       "    .dataframe tbody tr th:only-of-type {\n",
       "        vertical-align: middle;\n",
       "    }\n",
       "\n",
       "    .dataframe tbody tr th {\n",
       "        vertical-align: top;\n",
       "    }\n",
       "\n",
       "    .dataframe thead th {\n",
       "        text-align: right;\n",
       "    }\n",
       "</style>\n",
       "<table border=\"1\" class=\"dataframe\">\n",
       "  <thead>\n",
       "    <tr style=\"text-align: right;\">\n",
       "      <th></th>\n",
       "      <th>A.0_ID flood wave shape</th>\n",
       "      <th>A.1_Bmax</th>\n",
       "      <th>A.1_Brate</th>\n",
       "      <th>A.1_pfail</th>\n",
       "      <th>A.2_Bmax</th>\n",
       "      <th>A.2_Brate</th>\n",
       "      <th>A.2_pfail</th>\n",
       "      <th>A.3_Bmax</th>\n",
       "      <th>A.3_Brate</th>\n",
       "      <th>A.3_pfail</th>\n",
       "      <th>A.4_Bmax</th>\n",
       "      <th>A.4_Brate</th>\n",
       "      <th>A.4_pfail</th>\n",
       "      <th>A.5_Bmax</th>\n",
       "      <th>A.5_Brate</th>\n",
       "      <th>A.5_pfail</th>\n",
       "    </tr>\n",
       "  </thead>\n",
       "  <tbody>\n",
       "    <tr>\n",
       "      <th>0</th>\n",
       "      <td>108.0</td>\n",
       "      <td>306.204867</td>\n",
       "      <td>10.0</td>\n",
       "      <td>0.200822</td>\n",
       "      <td>162.325922</td>\n",
       "      <td>1.5</td>\n",
       "      <td>0.791249</td>\n",
       "      <td>210.485682</td>\n",
       "      <td>10.0</td>\n",
       "      <td>0.592787</td>\n",
       "      <td>154.082511</td>\n",
       "      <td>1.0</td>\n",
       "      <td>0.322756</td>\n",
       "      <td>268.823052</td>\n",
       "      <td>10.0</td>\n",
       "      <td>0.316942</td>\n",
       "    </tr>\n",
       "    <tr>\n",
       "      <th>1</th>\n",
       "      <td>71.0</td>\n",
       "      <td>232.607582</td>\n",
       "      <td>1.5</td>\n",
       "      <td>0.155764</td>\n",
       "      <td>90.103364</td>\n",
       "      <td>10.0</td>\n",
       "      <td>0.987325</td>\n",
       "      <td>111.572437</td>\n",
       "      <td>10.0</td>\n",
       "      <td>0.643120</td>\n",
       "      <td>196.138057</td>\n",
       "      <td>10.0</td>\n",
       "      <td>0.557227</td>\n",
       "      <td>107.631245</td>\n",
       "      <td>10.0</td>\n",
       "      <td>0.444051</td>\n",
       "    </tr>\n",
       "    <tr>\n",
       "      <th>2</th>\n",
       "      <td>21.0</td>\n",
       "      <td>348.831088</td>\n",
       "      <td>1.0</td>\n",
       "      <td>0.196232</td>\n",
       "      <td>265.196139</td>\n",
       "      <td>10.0</td>\n",
       "      <td>0.288037</td>\n",
       "      <td>185.085407</td>\n",
       "      <td>10.0</td>\n",
       "      <td>0.775696</td>\n",
       "      <td>271.290312</td>\n",
       "      <td>1.0</td>\n",
       "      <td>0.177457</td>\n",
       "      <td>72.382141</td>\n",
       "      <td>10.0</td>\n",
       "      <td>0.080950</td>\n",
       "    </tr>\n",
       "    <tr>\n",
       "      <th>3</th>\n",
       "      <td>9.0</td>\n",
       "      <td>189.760125</td>\n",
       "      <td>10.0</td>\n",
       "      <td>0.339976</td>\n",
       "      <td>204.933490</td>\n",
       "      <td>1.5</td>\n",
       "      <td>0.925791</td>\n",
       "      <td>199.394990</td>\n",
       "      <td>10.0</td>\n",
       "      <td>0.955059</td>\n",
       "      <td>191.887551</td>\n",
       "      <td>10.0</td>\n",
       "      <td>0.267018</td>\n",
       "      <td>65.021861</td>\n",
       "      <td>1.5</td>\n",
       "      <td>0.255926</td>\n",
       "    </tr>\n",
       "    <tr>\n",
       "      <th>4</th>\n",
       "      <td>115.0</td>\n",
       "      <td>217.057027</td>\n",
       "      <td>1.5</td>\n",
       "      <td>0.826048</td>\n",
       "      <td>290.177029</td>\n",
       "      <td>1.0</td>\n",
       "      <td>0.493298</td>\n",
       "      <td>128.670483</td>\n",
       "      <td>1.5</td>\n",
       "      <td>0.524991</td>\n",
       "      <td>68.986944</td>\n",
       "      <td>1.0</td>\n",
       "      <td>0.129549</td>\n",
       "      <td>223.883294</td>\n",
       "      <td>10.0</td>\n",
       "      <td>0.863789</td>\n",
       "    </tr>\n",
       "  </tbody>\n",
       "</table>\n",
       "</div>"
      ],
      "text/plain": [
       "   A.0_ID flood wave shape    A.1_Bmax  A.1_Brate  A.1_pfail    A.2_Bmax  \\\n",
       "0                    108.0  306.204867       10.0   0.200822  162.325922   \n",
       "1                     71.0  232.607582        1.5   0.155764   90.103364   \n",
       "2                     21.0  348.831088        1.0   0.196232  265.196139   \n",
       "3                      9.0  189.760125       10.0   0.339976  204.933490   \n",
       "4                    115.0  217.057027        1.5   0.826048  290.177029   \n",
       "\n",
       "   A.2_Brate  A.2_pfail    A.3_Bmax  A.3_Brate  A.3_pfail    A.4_Bmax  \\\n",
       "0        1.5   0.791249  210.485682       10.0   0.592787  154.082511   \n",
       "1       10.0   0.987325  111.572437       10.0   0.643120  196.138057   \n",
       "2       10.0   0.288037  185.085407       10.0   0.775696  271.290312   \n",
       "3        1.5   0.925791  199.394990       10.0   0.955059  191.887551   \n",
       "4        1.0   0.493298  128.670483        1.5   0.524991   68.986944   \n",
       "\n",
       "   A.4_Brate  A.4_pfail    A.5_Bmax  A.5_Brate  A.5_pfail  \n",
       "0        1.0   0.322756  268.823052       10.0   0.316942  \n",
       "1       10.0   0.557227  107.631245       10.0   0.444051  \n",
       "2        1.0   0.177457   72.382141       10.0   0.080950  \n",
       "3       10.0   0.267018   65.021861        1.5   0.255926  \n",
       "4        1.0   0.129549  223.883294       10.0   0.863789  "
      ]
     },
     "execution_count": 41,
     "metadata": {},
     "output_type": "execute_result"
    }
   ],
   "source": [
    "experiments = experiments.iloc[:, :16]\n",
    "experiments.head()"
   ]
  },
  {
   "cell_type": "code",
   "execution_count": 42,
   "metadata": {
    "ExecuteTime": {
     "end_time": "2021-06-16T21:51:03.336947Z",
     "start_time": "2021-06-16T21:51:03.311495Z"
    }
   },
   "outputs": [],
   "source": [
    "outcomes_total_dikerings_load_DF = outcomes_total_dikerings_load_DF[outcomes_total_dikerings_load_DF['Unnamed: 0'].isin(list_of_policies)]"
   ]
  },
  {
   "cell_type": "code",
   "execution_count": 43,
   "metadata": {
    "ExecuteTime": {
     "end_time": "2021-06-16T21:51:03.792823Z",
     "start_time": "2021-06-16T21:51:03.778860Z"
    }
   },
   "outputs": [
    {
     "data": {
      "text/plain": [
       "(2000, 12)"
      ]
     },
     "execution_count": 43,
     "metadata": {},
     "output_type": "execute_result"
    }
   ],
   "source": [
    "outcomes_total_dikerings_load_DF.reset_index(inplace = True, drop = True)\n",
    "outcomes_total_dikerings_load_DF.drop(columns = ['Unnamed: 0'], inplace = True)\n",
    "outcomes_total_dikerings_load_DF.shape"
   ]
  },
  {
   "cell_type": "code",
   "execution_count": 44,
   "metadata": {
    "ExecuteTime": {
     "end_time": "2021-06-16T21:51:04.357064Z",
     "start_time": "2021-06-16T21:51:04.313174Z"
    }
   },
   "outputs": [
    {
     "data": {
      "text/html": [
       "<div>\n",
       "<style scoped>\n",
       "    .dataframe tbody tr th:only-of-type {\n",
       "        vertical-align: middle;\n",
       "    }\n",
       "\n",
       "    .dataframe tbody tr th {\n",
       "        vertical-align: top;\n",
       "    }\n",
       "\n",
       "    .dataframe thead th {\n",
       "        text-align: right;\n",
       "    }\n",
       "</style>\n",
       "<table border=\"1\" class=\"dataframe\">\n",
       "  <thead>\n",
       "    <tr style=\"text-align: right;\">\n",
       "      <th></th>\n",
       "      <th>A.1 Total Costs</th>\n",
       "      <th>A.1_Expected Number of Deaths</th>\n",
       "      <th>A.2 Total Costs</th>\n",
       "      <th>A.2_Expected Number of Deaths</th>\n",
       "      <th>A.3 Total Costs</th>\n",
       "      <th>A.3_Expected Number of Deaths</th>\n",
       "      <th>A.4 Total Costs</th>\n",
       "      <th>A.4_Expected Number of Deaths</th>\n",
       "      <th>A.5 Total Costs</th>\n",
       "      <th>A.5_Expected Number of Deaths</th>\n",
       "      <th>RfR Total Costs</th>\n",
       "      <th>Expected Evacuation Costs</th>\n",
       "    </tr>\n",
       "  </thead>\n",
       "  <tbody>\n",
       "    <tr>\n",
       "      <th>0</th>\n",
       "      <td>2.254465e+08</td>\n",
       "      <td>0.0</td>\n",
       "      <td>2.456855e+08</td>\n",
       "      <td>0.0</td>\n",
       "      <td>8.632540e+07</td>\n",
       "      <td>0.0</td>\n",
       "      <td>2.111679e+07</td>\n",
       "      <td>0.000216</td>\n",
       "      <td>8.122223e+07</td>\n",
       "      <td>0.0</td>\n",
       "      <td>394300000.0</td>\n",
       "      <td>190.029291</td>\n",
       "    </tr>\n",
       "    <tr>\n",
       "      <th>1</th>\n",
       "      <td>2.254465e+08</td>\n",
       "      <td>0.0</td>\n",
       "      <td>2.456855e+08</td>\n",
       "      <td>0.0</td>\n",
       "      <td>8.632540e+07</td>\n",
       "      <td>0.0</td>\n",
       "      <td>1.728841e+07</td>\n",
       "      <td>0.000041</td>\n",
       "      <td>8.122223e+07</td>\n",
       "      <td>0.0</td>\n",
       "      <td>394300000.0</td>\n",
       "      <td>30.527844</td>\n",
       "    </tr>\n",
       "    <tr>\n",
       "      <th>2</th>\n",
       "      <td>2.254465e+08</td>\n",
       "      <td>0.0</td>\n",
       "      <td>2.456855e+08</td>\n",
       "      <td>0.0</td>\n",
       "      <td>8.632540e+07</td>\n",
       "      <td>0.0</td>\n",
       "      <td>2.364691e+07</td>\n",
       "      <td>0.000654</td>\n",
       "      <td>8.122223e+07</td>\n",
       "      <td>0.0</td>\n",
       "      <td>394300000.0</td>\n",
       "      <td>618.029889</td>\n",
       "    </tr>\n",
       "    <tr>\n",
       "      <th>3</th>\n",
       "      <td>2.254465e+08</td>\n",
       "      <td>0.0</td>\n",
       "      <td>2.456855e+08</td>\n",
       "      <td>0.0</td>\n",
       "      <td>8.632540e+07</td>\n",
       "      <td>0.0</td>\n",
       "      <td>2.000077e+07</td>\n",
       "      <td>0.000203</td>\n",
       "      <td>8.122223e+07</td>\n",
       "      <td>0.0</td>\n",
       "      <td>394300000.0</td>\n",
       "      <td>182.064530</td>\n",
       "    </tr>\n",
       "    <tr>\n",
       "      <th>4</th>\n",
       "      <td>2.254465e+08</td>\n",
       "      <td>0.0</td>\n",
       "      <td>2.456855e+08</td>\n",
       "      <td>0.0</td>\n",
       "      <td>8.632540e+07</td>\n",
       "      <td>0.0</td>\n",
       "      <td>2.577532e+07</td>\n",
       "      <td>0.000846</td>\n",
       "      <td>8.122223e+07</td>\n",
       "      <td>0.0</td>\n",
       "      <td>394300000.0</td>\n",
       "      <td>818.682561</td>\n",
       "    </tr>\n",
       "  </tbody>\n",
       "</table>\n",
       "</div>"
      ],
      "text/plain": [
       "   A.1 Total Costs  A.1_Expected Number of Deaths  A.2 Total Costs  \\\n",
       "0     2.254465e+08                            0.0     2.456855e+08   \n",
       "1     2.254465e+08                            0.0     2.456855e+08   \n",
       "2     2.254465e+08                            0.0     2.456855e+08   \n",
       "3     2.254465e+08                            0.0     2.456855e+08   \n",
       "4     2.254465e+08                            0.0     2.456855e+08   \n",
       "\n",
       "   A.2_Expected Number of Deaths  A.3 Total Costs  \\\n",
       "0                            0.0     8.632540e+07   \n",
       "1                            0.0     8.632540e+07   \n",
       "2                            0.0     8.632540e+07   \n",
       "3                            0.0     8.632540e+07   \n",
       "4                            0.0     8.632540e+07   \n",
       "\n",
       "   A.3_Expected Number of Deaths  A.4 Total Costs  \\\n",
       "0                            0.0     2.111679e+07   \n",
       "1                            0.0     1.728841e+07   \n",
       "2                            0.0     2.364691e+07   \n",
       "3                            0.0     2.000077e+07   \n",
       "4                            0.0     2.577532e+07   \n",
       "\n",
       "   A.4_Expected Number of Deaths  A.5 Total Costs  \\\n",
       "0                       0.000216     8.122223e+07   \n",
       "1                       0.000041     8.122223e+07   \n",
       "2                       0.000654     8.122223e+07   \n",
       "3                       0.000203     8.122223e+07   \n",
       "4                       0.000846     8.122223e+07   \n",
       "\n",
       "   A.5_Expected Number of Deaths  RfR Total Costs  Expected Evacuation Costs  \n",
       "0                            0.0      394300000.0                 190.029291  \n",
       "1                            0.0      394300000.0                  30.527844  \n",
       "2                            0.0      394300000.0                 618.029889  \n",
       "3                            0.0      394300000.0                 182.064530  \n",
       "4                            0.0      394300000.0                 818.682561  "
      ]
     },
     "execution_count": 44,
     "metadata": {},
     "output_type": "execute_result"
    }
   ],
   "source": [
    "outcomes_total_dikerings_load_DF.head()"
   ]
  },
  {
   "cell_type": "code",
   "execution_count": 45,
   "metadata": {
    "ExecuteTime": {
     "end_time": "2021-06-16T21:51:04.907319Z",
     "start_time": "2021-06-16T21:51:04.880180Z"
    }
   },
   "outputs": [],
   "source": [
    "outcomes_total_dikerings_load_DF['Total deaths'] = outcomes_total_dikerings_load_DF['A.1_Expected Number of Deaths'] + outcomes_total_dikerings_load_DF['A.2_Expected Number of Deaths'] + outcomes_total_dikerings_load_DF['A.3_Expected Number of Deaths'] + outcomes_total_dikerings_load_DF['A.4_Expected Number of Deaths'] + outcomes_total_dikerings_load_DF['A.5_Expected Number of Deaths']\n",
    "outcomes_total_dikerings_load_DF['Total costs'] = outcomes_total_dikerings_load_DF['A.1 Total Costs'] + outcomes_total_dikerings_load_DF['A.2 Total Costs'] + outcomes_total_dikerings_load_DF['A.3 Total Costs'] + outcomes_total_dikerings_load_DF['A.4 Total Costs'] + outcomes_total_dikerings_load_DF['A.5 Total Costs']"
   ]
  },
  {
   "cell_type": "markdown",
   "metadata": {},
   "source": [
    "## Deaths"
   ]
  },
  {
   "cell_type": "markdown",
   "metadata": {
    "ExecuteTime": {
     "end_time": "2021-06-04T10:30:32.193117Z",
     "start_time": "2021-06-04T10:30:32.177809Z"
    }
   },
   "source": [
    "In this section analysis are performed on the simulated number of deaths by the dike_function.py model"
   ]
  },
  {
   "cell_type": "code",
   "execution_count": 46,
   "metadata": {
    "ExecuteTime": {
     "end_time": "2021-06-16T21:51:05.408291Z",
     "start_time": "2021-06-16T21:51:05.395326Z"
    }
   },
   "outputs": [
    {
     "name": "stdout",
     "output_type": "stream",
     "text": [
      "0.06465357611643033\n",
      "0.0460358314433177\n",
      "0.23909854651014015\n",
      "0.004787884700555595\n",
      "0.0\n"
     ]
    }
   ],
   "source": [
    "print(outcomes_total_dikerings_load_DF['A.1_Expected Number of Deaths'].max())\n",
    "print(outcomes_total_dikerings_load_DF['A.2_Expected Number of Deaths'].max())\n",
    "print(outcomes_total_dikerings_load_DF['A.3_Expected Number of Deaths'].max())\n",
    "print(outcomes_total_dikerings_load_DF['A.4_Expected Number of Deaths'].max())\n",
    "print(outcomes_total_dikerings_load_DF['A.5_Expected Number of Deaths'].max())"
   ]
  },
  {
   "cell_type": "code",
   "execution_count": 50,
   "metadata": {
    "ExecuteTime": {
     "end_time": "2021-06-16T21:51:44.840898Z",
     "start_time": "2021-06-16T21:51:43.225508Z"
    }
   },
   "outputs": [],
   "source": [
    "data = outcomes_total_dikerings_load_DF['Total deaths']\n",
    "\n",
    "#desirable risk by Dutch government (1/100000) times citizens of Deventer (+/- 100000 in jan 2019)\n",
    "y = data > 0\n",
    "\n",
    "prim_alg = prim.Prim(experiments,y, threshold=0.8)\n",
    "\n",
    "box1 = prim_alg.find_box()"
   ]
  },
  {
   "cell_type": "code",
   "execution_count": 51,
   "metadata": {
    "ExecuteTime": {
     "end_time": "2021-06-16T21:51:46.111814Z",
     "start_time": "2021-06-16T21:51:45.753149Z"
    }
   },
   "outputs": [
    {
     "data": {
      "image/png": "[encoded data removed]",
      "text/plain": [
       "<Figure size 432x288 with 2 Axes>"
      ]
     },
     "metadata": {
      "needs_background": "light"
     },
     "output_type": "display_data"
    }
   ],
   "source": [
    "fig = box1.show_tradeoff()\n",
    "fig.suptitle('Dikering 5 threshold of deaths tradeoff', fontsize=16)\n",
    "plt.savefig('Figures_dewy/policies_deaths_tradeoff.png')\n",
    "plt.show()"
   ]
  },
  {
   "cell_type": "code",
   "execution_count": 15,
   "metadata": {
    "ExecuteTime": {
     "end_time": "2021-06-16T21:42:42.374054Z",
     "start_time": "2021-06-16T21:42:42.346128Z"
    }
   },
   "outputs": [
    {
     "name": "stdout",
     "output_type": "stream",
     "text": [
      "coverage    0.968288\n",
      "density     0.723158\n",
      "id                 1\n",
      "mass            0.95\n",
      "mean        0.723158\n",
      "res_dim            1\n",
      "Name: 1, dtype: object\n",
      "\n",
      "              box 1                                       \n",
      "                min       max                    qp values\n",
      "A.3_pfail  0.000274  0.949699  [-1.0, 0.09879331742426939]\n",
      "\n"
     ]
    }
   ],
   "source": [
    "box1.inspect(1)"
   ]
  },
  {
   "cell_type": "code",
   "execution_count": 16,
   "metadata": {
    "ExecuteTime": {
     "end_time": "2021-06-16T21:42:42.643974Z",
     "start_time": "2021-06-16T21:42:42.377046Z"
    }
   },
   "outputs": [
    {
     "data": {
      "image/png": "[encoded data removed]",
      "text/plain": [
       "<Figure size 432x288 with 1 Axes>"
      ]
     },
     "metadata": {
      "needs_background": "light"
     },
     "output_type": "display_data"
    }
   ],
   "source": [
    "fig = box1.inspect(1,style='graph')\n",
    "fig.suptitle('Dikering 5 threshold of deaths constraints', fontsize=16)\n",
    "plt.savefig('Figures_dewy/policies_deaths_constraints.png')\n",
    "plt.show()"
   ]
  },
  {
   "cell_type": "code",
   "execution_count": 17,
   "metadata": {
    "ExecuteTime": {
     "end_time": "2021-06-16T21:42:42.675199Z",
     "start_time": "2021-06-16T21:42:42.646918Z"
    }
   },
   "outputs": [],
   "source": [
    "box1.select(6)"
   ]
  },
  {
   "cell_type": "code",
   "execution_count": 18,
   "metadata": {
    "ExecuteTime": {
     "end_time": "2021-06-16T21:42:43.024615Z",
     "start_time": "2021-06-16T21:42:42.678193Z"
    }
   },
   "outputs": [
    {
     "data": {
      "image/png": "[encoded data removed]",
      "text/plain": [
       "<Figure size 241.25x180 with 2 Axes>"
      ]
     },
     "metadata": {
      "needs_background": "light"
     },
     "output_type": "display_data"
    }
   ],
   "source": [
    "fig = box1.show_pairs_scatter()"
   ]
  },
  {
   "cell_type": "markdown",
   "metadata": {},
   "source": [
    "#### Dimensinal stacking"
   ]
  },
  {
   "cell_type": "code",
   "execution_count": 55,
   "metadata": {
    "ExecuteTime": {
     "end_time": "2021-06-16T21:58:37.448611Z",
     "start_time": "2021-06-16T21:58:35.636173Z"
    }
   },
   "outputs": [
    {
     "name": "stderr",
     "output_type": "stream",
     "text": [
      "c:\\program files (x86)\\python37-32\\lib\\site-packages\\ema_workbench\\analysis\\dimensional_stacking.py:404: FutureWarning: Support for multi-dimensional indexing (e.g. `obj[:, None]`) is deprecated and will be removed in a future version.  Convert to a numpy array before indexing instead.\n",
      "  ooi = pd.DataFrame(y[:, np.newaxis], columns=[ooi_label])\n"
     ]
    },
    {
     "data": {
      "image/png": "[encoded data removed]",
      "text/plain": [
       "<Figure size 720x720 with 4 Axes>"
      ]
     },
     "metadata": {},
     "output_type": "display_data"
    }
   ],
   "source": [
    "data = outcomes_total_dikerings_load_DF['Total deaths']\n",
    "y = data <= 0.1 #1.6 is the treshold\n",
    "\n",
    "fig = dimensional_stacking.create_pivot_plot(experiments, y)\n",
    "fig.suptitle('Dimensional stacking no deaths total delta', fontsize=16)\n",
    "plt.savefig('Figures_dewy/policies_deaths_stacking.png')\n",
    "plt.show()"
   ]
  },
  {
   "cell_type": "markdown",
   "metadata": {},
   "source": [
    "Analysis: the dimensional stacking shows as well that most important indicator for the outcomes that go over the treshold is the 'A5_pfail'"
   ]
  },
  {
   "cell_type": "markdown",
   "metadata": {},
   "source": [
    "## Damage"
   ]
  },
  {
   "cell_type": "markdown",
   "metadata": {},
   "source": [
    "In this section analysis are performed on the simulated number of deaths by the dike_function.py model"
   ]
  },
  {
   "cell_type": "markdown",
   "metadata": {},
   "source": [
    "### Total damage for all dikerings"
   ]
  },
  {
   "cell_type": "code",
   "execution_count": 20,
   "metadata": {
    "ExecuteTime": {
     "end_time": "2021-06-16T21:42:44.926080Z",
     "start_time": "2021-06-16T21:42:44.913115Z"
    }
   },
   "outputs": [],
   "source": [
    "data = outcomes_total_dikerings_load_DF['Total costs']"
   ]
  },
  {
   "cell_type": "code",
   "execution_count": 21,
   "metadata": {
    "ExecuteTime": {
     "end_time": "2021-06-16T21:42:45.323599Z",
     "start_time": "2021-06-16T21:42:44.933061Z"
    }
   },
   "outputs": [
    {
     "data": {
      "text/plain": [
       "<AxesSubplot:ylabel='Density'>"
      ]
     },
     "execution_count": 21,
     "metadata": {},
     "output_type": "execute_result"
    },
    {
     "data": {
      "image/png": "[encoded data removed]",
      "text/plain": [
       "<Figure size 432x288 with 1 Axes>"
      ]
     },
     "metadata": {
      "needs_background": "light"
     },
     "output_type": "display_data"
    }
   ],
   "source": [
    "data.plot.kde()"
   ]
  },
  {
   "cell_type": "code",
   "execution_count": 57,
   "metadata": {
    "ExecuteTime": {
     "end_time": "2021-06-16T22:03:48.155390Z",
     "start_time": "2021-06-16T22:03:48.139461Z"
    }
   },
   "outputs": [
    {
     "name": "stdout",
     "output_type": "stream",
     "text": [
      "2062376525.7269816\n",
      "421884087.77827096\n",
      "421884087.77827096\n",
      "673543200.2780268\n"
     ]
    }
   ],
   "source": [
    "data = outcomes_total_dikerings_load_DF['Total costs']\n",
    "print(data.max())\n",
    "print(data.min())\n",
    "print(data.quantile(.2))\n",
    "print(data.quantile(.8))"
   ]
  },
  {
   "cell_type": "markdown",
   "metadata": {},
   "source": [
    "As treshold we take 441575627 and 3071536698 since these are the lowest and highest 20% of the damage cases"
   ]
  },
  {
   "cell_type": "code",
   "execution_count": 58,
   "metadata": {
    "ExecuteTime": {
     "end_time": "2021-06-16T22:04:06.151754Z",
     "start_time": "2021-06-16T22:04:01.719265Z"
    }
   },
   "outputs": [],
   "source": [
    "data = outcomes_total_dikerings_load_DF['Total costs']\n",
    "\n",
    "#y = data < 242382297.91068038\n",
    "y = data > 673543200\n",
    "prim_alg_damage_low = prim.Prim(experiments,y, threshold=0.8)\n",
    "#prim_alg_damage_high = prim.Prim(experiments,y1, threshold=0.8)\n",
    "\n",
    "box_damage_low = prim_alg_damage_low.find_box()\n",
    "#box_damage_high = prim_alg_damage_high.find_box()"
   ]
  },
  {
   "cell_type": "markdown",
   "metadata": {},
   "source": [
    "#### Lowest 20% damage "
   ]
  },
  {
   "cell_type": "code",
   "execution_count": 24,
   "metadata": {
    "ExecuteTime": {
     "end_time": "2021-06-16T21:42:47.436478Z",
     "start_time": "2021-06-16T21:42:47.016623Z"
    }
   },
   "outputs": [
    {
     "data": {
      "image/png": "[encoded data removed]",
      "text/plain": [
       "<Figure size 432x288 with 2 Axes>"
      ]
     },
     "metadata": {
      "needs_background": "light"
     },
     "output_type": "display_data"
    }
   ],
   "source": [
    "fig = box_damage_low.show_tradeoff()\n",
    "fig.suptitle('20% lowest damage delta threshold of deaths tradeoff', fontsize=16)\n",
    "plt.savefig('Figures_dewy/policies_damage_tradeoff.png')\n",
    "plt.show()"
   ]
  },
  {
   "cell_type": "code",
   "execution_count": 25,
   "metadata": {
    "ExecuteTime": {
     "end_time": "2021-06-16T21:42:47.467427Z",
     "start_time": "2021-06-16T21:42:47.441464Z"
    }
   },
   "outputs": [
    {
     "name": "stdout",
     "output_type": "stream",
     "text": [
      "coverage    0.959748\n",
      "density     0.803158\n",
      "id                 1\n",
      "mass            0.95\n",
      "mean        0.803158\n",
      "res_dim            1\n",
      "Name: 1, dtype: object\n",
      "\n",
      "              box 1                                       \n",
      "                min       max                    qp values\n",
      "A.3_pfail  0.000274  0.949699  [-1.0, 0.19741162165146084]\n",
      "\n"
     ]
    }
   ],
   "source": [
    "box_damage_low.inspect(1)"
   ]
  },
  {
   "cell_type": "code",
   "execution_count": 26,
   "metadata": {
    "ExecuteTime": {
     "end_time": "2021-06-16T21:42:47.786394Z",
     "start_time": "2021-06-16T21:42:47.473379Z"
    }
   },
   "outputs": [
    {
     "data": {
      "image/png": "[encoded data removed]",
      "text/plain": [
       "<Figure size 432x288 with 1 Axes>"
      ]
     },
     "metadata": {
      "needs_background": "light"
     },
     "output_type": "display_data"
    }
   ],
   "source": [
    "fig = box_damage_low.inspect(1,style='graph')\n",
    "fig.suptitle('20% lowest total damage in delta constraints', fontsize=16)\n",
    "plt.savefig('Figures_dewy/policies_damage_constraints.png')\n",
    "plt.show()"
   ]
  },
  {
   "cell_type": "code",
   "execution_count": 27,
   "metadata": {
    "ExecuteTime": {
     "end_time": "2021-06-16T21:42:47.833216Z",
     "start_time": "2021-06-16T21:42:47.796367Z"
    }
   },
   "outputs": [],
   "source": [
    "box_damage_low.select(1)"
   ]
  },
  {
   "cell_type": "code",
   "execution_count": 28,
   "metadata": {
    "ExecuteTime": {
     "end_time": "2021-06-16T21:42:48.323620Z",
     "start_time": "2021-06-16T21:42:47.846207Z"
    }
   },
   "outputs": [
    {
     "data": {
      "image/png": "[encoded data removed]",
      "text/plain": [
       "<Figure size 241.25x180 with 2 Axes>"
      ]
     },
     "metadata": {
      "needs_background": "light"
     },
     "output_type": "display_data"
    }
   ],
   "source": [
    "fig = box_damage_low.show_pairs_scatter()"
   ]
  },
  {
   "cell_type": "code",
   "execution_count": 59,
   "metadata": {
    "ExecuteTime": {
     "end_time": "2021-06-16T22:04:13.284047Z",
     "start_time": "2021-06-16T22:04:11.349222Z"
    }
   },
   "outputs": [
    {
     "name": "stderr",
     "output_type": "stream",
     "text": [
      "c:\\program files (x86)\\python37-32\\lib\\site-packages\\ema_workbench\\analysis\\dimensional_stacking.py:404: FutureWarning: Support for multi-dimensional indexing (e.g. `obj[:, None]`) is deprecated and will be removed in a future version.  Convert to a numpy array before indexing instead.\n",
      "  ooi = pd.DataFrame(y[:, np.newaxis], columns=[ooi_label])\n"
     ]
    },
    {
     "data": {
      "image/png": "[encoded data removed]",
      "text/plain": [
       "<Figure size 720x720 with 4 Axes>"
      ]
     },
     "metadata": {},
     "output_type": "display_data"
    }
   ],
   "source": [
    "data = outcomes_total_dikerings_load_DF['Total costs']\n",
    "y = data > 673543200\n",
    "\n",
    "fig = dimensional_stacking.create_pivot_plot(experiments, y)\n",
    "fig.suptitle('Dimensional stacking damage total delta', fontsize=16)\n",
    "plt.savefig('Figures_dewy/policies_damage_stacking.png')\n",
    "plt.show()"
   ]
  },
  {
   "cell_type": "code",
   "execution_count": null,
   "metadata": {},
   "outputs": [],
   "source": []
  }
 ],
 "metadata": {
  "kernelspec": {
   "display_name": "Python 3",
   "language": "python",
   "name": "python3"
  },
  "language_info": {
   "codemirror_mode": {
    "name": "ipython",
    "version": 3
   },
   "file_extension": ".py",
   "mimetype": "text/x-python",
   "name": "python",
   "nbconvert_exporter": "python",
   "pygments_lexer": "ipython3",
   "version": "3.7.4"
  },
  "varInspector": {
   "cols": {
    "lenName": 16,
    "lenType": 16,
    "lenVar": 40
   },
   "kernels_config": {
    "python": {
     "delete_cmd_postfix": "",
     "delete_cmd_prefix": "del ",
     "library": "var_list.py",
     "varRefreshCmd": "print(var_dic_list())"
    },
    "r": {
     "delete_cmd_postfix": ") ",
     "delete_cmd_prefix": "rm(",
     "library": "var_list.r",
     "varRefreshCmd": "cat(var_dic_list()) "
    }
   },
   "types_to_exclude": [
    "module",
    "function",
    "builtin_function_or_method",
    "instance",
    "_Feature"
   ],
   "window_display": false
  }
 },
 "nbformat": 4,
 "nbformat_minor": 5
}
