{
 "cells": [
  {
   "cell_type": "code",
   "execution_count": 1,
   "metadata": {
    "ExecuteTime": {
     "end_time": "2021-06-04T11:32:23.562510Z",
     "start_time": "2021-06-04T11:32:22.699090Z"
    }
   },
   "outputs": [],
   "source": [
    "import pandas as pd"
   ]
  },
  {
   "cell_type": "code",
   "execution_count": 13,
   "metadata": {
    "ExecuteTime": {
     "end_time": "2021-06-04T11:43:15.391505Z",
     "start_time": "2021-06-04T11:43:15.175992Z"
    }
   },
   "outputs": [],
   "source": [
    "experiments = pd.read_csv('Outcomes/Experiments_from_Exploration_10000scenarios_pf5.csv')\n",
    "outcomes = pd.read_csv('Outcomes/Outcomes_from_Exploration_10000scenarios_pf5.csv')"
   ]
  },
  {
   "cell_type": "code",
   "execution_count": 14,
   "metadata": {
    "ExecuteTime": {
     "end_time": "2021-06-04T11:43:15.847362Z",
     "start_time": "2021-06-04T11:43:15.836390Z"
    }
   },
   "outputs": [],
   "source": [
    "outcomes_of_interest = outcomes"
   ]
  },
  {
   "cell_type": "code",
   "execution_count": 19,
   "metadata": {
    "ExecuteTime": {
     "end_time": "2021-06-04T11:45:16.021104Z",
     "start_time": "2021-06-04T11:45:15.933341Z"
    }
   },
   "outputs": [],
   "source": [
    "for n in range(1,6):\n",
    "    outcomes_of_interest[f'A.{n}_Expected Total Damage'] = 0\n",
    "    outcomes_of_interest[f'A.{n}_Total Dike Investment Costs'] = 0\n",
    "    outcomes_of_interest[f'A.{n}_Total Expected Number of Deaths'] = 0\n",
    "    \n",
    "    for i in range(3):\n",
    "        outcomes_of_interest[f'A.{n}_Expected Total Damage'] += outcomes_of_interest[f'A.{n}_Expected Annual Damage {i}']\n",
    "        outcomes_of_interest[f'A.{n}_Total Dike Investment Costs'] += outcomes_of_interest[f'A.{n}_Dike Investment Costs {i}']\n",
    "        outcomes_of_interest[f'A.{n}_Total Expected Number of Deaths'] += outcomes_of_interest[f'A.{n}_Expected Number of Deaths {i}']\n",
    "    n+=1\n",
    "\n",
    "outcomes_of_interest['RfR Total Costs'] = 0\n",
    "outcomes_of_interest['Total Expected Evacuation Costs'] = 0\n",
    "outcomes_of_interest['Other Areas Total Number of Deaths'] = 0  \n",
    "outcomes_of_interest['Other Areas Total Dike Investment Costs'] = 0\n",
    "outcomes_of_interest['Other Areas Total Damage'] = 0\n",
    "\n",
    "\n",
    "for i in range(3):\n",
    "    outcomes_of_interest['RfR Total Costs'] += outcomes_of_interest[f'RfR Total Costs {i}']\n",
    "    outcomes_of_interest['Total Expected Evacuation Costs'] += outcomes_of_interest[f'Expected Evacuation Costs {i}']\n",
    "\n",
    "for n in range(1,5):\n",
    "    outcomes_of_interest['Other Areas Total Number of Deaths'] += outcomes_of_interest[f'A.{n}_Total Expected Number of Deaths']\n",
    "    outcomes_of_interest['Other Areas Total Dike Investment Costs'] += outcomes_of_interest[f'A.{n}_Total Dike Investment Costs']\n",
    "    outcomes_of_interest['Other Areas Total Damage'] += outcomes_of_interest[f'A.{n}_Expected Total Damage']\n",
    "    \n",
    "outcomes_totals = outcomes_of_interest.iloc[:,-17::]"
   ]
  },
  {
   "cell_type": "code",
   "execution_count": 21,
   "metadata": {
    "ExecuteTime": {
     "end_time": "2021-06-04T11:46:07.435110Z",
     "start_time": "2021-06-04T11:46:06.434445Z"
    }
   },
   "outputs": [],
   "source": [
    "outcomes_of_interest.to_csv('Outcomes/Proccesed_basecase_district_aggregated_10000scenarios_pf5.csv')"
   ]
  },
  {
   "cell_type": "code",
   "execution_count": null,
   "metadata": {},
   "outputs": [],
   "source": []
  }
 ],
 "metadata": {
  "kernelspec": {
   "display_name": "Python 3",
   "language": "python",
   "name": "python3"
  },
  "language_info": {
   "codemirror_mode": {
    "name": "ipython",
    "version": 3
   },
   "file_extension": ".py",
   "mimetype": "text/x-python",
   "name": "python",
   "nbconvert_exporter": "python",
   "pygments_lexer": "ipython3",
   "version": "3.7.4"
  },
  "varInspector": {
   "cols": {
    "lenName": 16,
    "lenType": 16,
    "lenVar": 40
   },
   "kernels_config": {
    "python": {
     "delete_cmd_postfix": "",
     "delete_cmd_prefix": "del ",
     "library": "var_list.py",
     "varRefreshCmd": "print(var_dic_list())"
    },
    "r": {
     "delete_cmd_postfix": ") ",
     "delete_cmd_prefix": "rm(",
     "library": "var_list.r",
     "varRefreshCmd": "cat(var_dic_list()) "
    }
   },
   "types_to_exclude": [
    "module",
    "function",
    "builtin_function_or_method",
    "instance",
    "_Feature"
   ],
   "window_display": false
  }
 },
 "nbformat": 4,
 "nbformat_minor": 2
}
