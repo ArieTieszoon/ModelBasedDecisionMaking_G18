{
 "cells": [
  {
   "cell_type": "markdown",
   "id": "80bb4fed",
   "metadata": {},
   "source": [
    "### Sobol "
   ]
  },
  {
   "cell_type": "code",
   "execution_count": 1,
   "id": "26c7e25e",
   "metadata": {},
   "outputs": [],
   "source": [
    "import numpy as np\n",
    "import scipy as sp\n",
    "import pandas as pd\n",
    "import matplotlib.pyplot as plt\n",
    "import seaborn as sns\n",
    "import networkx as nx\n",
    "\n",
    "from ema_workbench import (Model, CategoricalParameter, SequentialEvaluator,\n",
    "                           ScalarOutcome, IntegerParameter, RealParameter,\n",
    "                           MultiprocessingEvaluator, Policy, Scenario)\n",
    "\n",
    "from dike_model_function import DikeNetwork  # @UnresolvedImport\n",
    "\n",
    "\n",
    "def sum_over(*args):\n",
    "    return sum(args)\n",
    "\n",
    "from ema_workbench import (Model, )\n",
    "\n",
    "from ema_workbench.em_framework.evaluators import perform_experiments\n",
    "from ema_workbench.em_framework.samplers import sample_uncertainties\n",
    "from ema_workbench.util import ema_logging\n",
    "import time\n",
    "\n",
    "from problem_formulation import get_model_for_problem_formulation\n",
    "\n",
    "\n",
    "ema_logging.log_to_stderr(ema_logging.INFO)\n",
    "\n",
    "#choose problem formulation number, between 0-5\n",
    "#each problem formulation has its own list of outcomes\n",
    "dike_model, planning_steps = get_model_for_problem_formulation(5)"
   ]
  },
  {
   "cell_type": "code",
   "execution_count": 21,
   "id": "eeca71a0",
   "metadata": {},
   "outputs": [],
   "source": [
    "#dike_model"
   ]
  },
  {
   "cell_type": "code",
   "execution_count": 2,
   "id": "a39b0422",
   "metadata": {},
   "outputs": [],
   "source": [
    "uncertainties = dike_model.uncertainties\n",
    "levers = dike_model.levers \n",
    "\n",
    "import copy\n",
    "uncertainties = copy.deepcopy(dike_model.uncertainties)\n",
    "levers = copy.deepcopy(dike_model.levers)"
   ]
  },
  {
   "cell_type": "code",
   "execution_count": 4,
   "id": "129ccb74",
   "metadata": {},
   "outputs": [
    {
     "name": "stdout",
     "output_type": "stream",
     "text": [
      "CategoricalParameter('discount rate 0', [0, 1, 2, 3])\n",
      "CategoricalParameter('discount rate 1', [0, 1, 2, 3])\n",
      "CategoricalParameter('discount rate 2', [0, 1, 2, 3])\n",
      "IntegerParameter('A.0_ID flood wave shape', 0, 132)\n",
      "RealParameter('A.1_Bmax', 30, 350)\n",
      "RealParameter('A.1_pfail', 0, 1)\n",
      "CategoricalParameter('A.1_Brate', [0, 1, 2])\n",
      "RealParameter('A.2_Bmax', 30, 350)\n",
      "RealParameter('A.2_pfail', 0, 1)\n",
      "CategoricalParameter('A.2_Brate', [0, 1, 2])\n",
      "RealParameter('A.3_Bmax', 30, 350)\n",
      "RealParameter('A.3_pfail', 0, 1)\n",
      "CategoricalParameter('A.3_Brate', [0, 1, 2])\n",
      "RealParameter('A.4_Bmax', 30, 350)\n",
      "RealParameter('A.4_pfail', 0, 1)\n",
      "CategoricalParameter('A.4_Brate', [0, 1, 2])\n",
      "RealParameter('A.5_Bmax', 30, 350)\n",
      "RealParameter('A.5_pfail', 0, 1)\n",
      "CategoricalParameter('A.5_Brate', [0, 1, 2])\n"
     ]
    }
   ],
   "source": [
    "for unc in uncertainties:\n",
    "    print(repr(unc))"
   ]
  },
  {
   "cell_type": "code",
   "execution_count": 5,
   "id": "34e7a43b",
   "metadata": {},
   "outputs": [
    {
     "name": "stdout",
     "output_type": "stream",
     "text": [
      "IntegerParameter('0_RfR 0', 0, 1)\n",
      "IntegerParameter('0_RfR 1', 0, 1)\n",
      "IntegerParameter('0_RfR 2', 0, 1)\n",
      "IntegerParameter('1_RfR 0', 0, 1)\n",
      "IntegerParameter('1_RfR 1', 0, 1)\n",
      "IntegerParameter('1_RfR 2', 0, 1)\n",
      "IntegerParameter('2_RfR 0', 0, 1)\n",
      "IntegerParameter('2_RfR 1', 0, 1)\n",
      "IntegerParameter('2_RfR 2', 0, 1)\n",
      "IntegerParameter('3_RfR 0', 0, 1)\n",
      "IntegerParameter('3_RfR 1', 0, 1)\n",
      "IntegerParameter('3_RfR 2', 0, 1)\n",
      "IntegerParameter('4_RfR 0', 0, 1)\n",
      "IntegerParameter('4_RfR 1', 0, 1)\n",
      "IntegerParameter('4_RfR 2', 0, 1)\n",
      "IntegerParameter('EWS_DaysToThreat', 0, 4)\n",
      "IntegerParameter('A.1_DikeIncrease 0', 0, 10)\n",
      "IntegerParameter('A.1_DikeIncrease 1', 0, 10)\n",
      "IntegerParameter('A.1_DikeIncrease 2', 0, 10)\n",
      "IntegerParameter('A.2_DikeIncrease 0', 0, 10)\n",
      "IntegerParameter('A.2_DikeIncrease 1', 0, 10)\n",
      "IntegerParameter('A.2_DikeIncrease 2', 0, 10)\n",
      "IntegerParameter('A.3_DikeIncrease 0', 0, 10)\n",
      "IntegerParameter('A.3_DikeIncrease 1', 0, 10)\n",
      "IntegerParameter('A.3_DikeIncrease 2', 0, 10)\n",
      "IntegerParameter('A.4_DikeIncrease 0', 0, 10)\n",
      "IntegerParameter('A.4_DikeIncrease 1', 0, 10)\n",
      "IntegerParameter('A.4_DikeIncrease 2', 0, 10)\n",
      "IntegerParameter('A.5_DikeIncrease 0', 0, 10)\n",
      "IntegerParameter('A.5_DikeIncrease 1', 0, 10)\n",
      "IntegerParameter('A.5_DikeIncrease 2', 0, 10)\n"
     ]
    }
   ],
   "source": [
    "for lev in levers:\n",
    "    print(repr(lev))"
   ]
  },
  {
   "cell_type": "code",
   "execution_count": 6,
   "id": "5a513728",
   "metadata": {},
   "outputs": [
    {
     "name": "stdout",
     "output_type": "stream",
     "text": [
      "ScalarOutcome('A.1_Expected Annual Damage 0')\n",
      "ScalarOutcome('A.1_Dike Investment Costs 0')\n",
      "ScalarOutcome('A.1_Expected Number of Deaths 0')\n",
      "ScalarOutcome('A.2_Expected Annual Damage 0')\n",
      "ScalarOutcome('A.2_Dike Investment Costs 0')\n",
      "ScalarOutcome('A.2_Expected Number of Deaths 0')\n",
      "ScalarOutcome('A.3_Expected Annual Damage 0')\n",
      "ScalarOutcome('A.3_Dike Investment Costs 0')\n",
      "ScalarOutcome('A.3_Expected Number of Deaths 0')\n",
      "ScalarOutcome('A.4_Expected Annual Damage 0')\n",
      "ScalarOutcome('A.4_Dike Investment Costs 0')\n",
      "ScalarOutcome('A.4_Expected Number of Deaths 0')\n",
      "ScalarOutcome('A.5_Expected Annual Damage 0')\n",
      "ScalarOutcome('A.5_Dike Investment Costs 0')\n",
      "ScalarOutcome('A.5_Expected Number of Deaths 0')\n",
      "ScalarOutcome('RfR Total Costs 0')\n",
      "ScalarOutcome('Expected Evacuation Costs 0')\n",
      "ScalarOutcome('A.1_Expected Annual Damage 1')\n",
      "ScalarOutcome('A.1_Dike Investment Costs 1')\n",
      "ScalarOutcome('A.1_Expected Number of Deaths 1')\n",
      "ScalarOutcome('A.2_Expected Annual Damage 1')\n",
      "ScalarOutcome('A.2_Dike Investment Costs 1')\n",
      "ScalarOutcome('A.2_Expected Number of Deaths 1')\n",
      "ScalarOutcome('A.3_Expected Annual Damage 1')\n",
      "ScalarOutcome('A.3_Dike Investment Costs 1')\n",
      "ScalarOutcome('A.3_Expected Number of Deaths 1')\n",
      "ScalarOutcome('A.4_Expected Annual Damage 1')\n",
      "ScalarOutcome('A.4_Dike Investment Costs 1')\n",
      "ScalarOutcome('A.4_Expected Number of Deaths 1')\n",
      "ScalarOutcome('A.5_Expected Annual Damage 1')\n",
      "ScalarOutcome('A.5_Dike Investment Costs 1')\n",
      "ScalarOutcome('A.5_Expected Number of Deaths 1')\n",
      "ScalarOutcome('RfR Total Costs 1')\n",
      "ScalarOutcome('Expected Evacuation Costs 1')\n",
      "ScalarOutcome('A.1_Expected Annual Damage 2')\n",
      "ScalarOutcome('A.1_Dike Investment Costs 2')\n",
      "ScalarOutcome('A.1_Expected Number of Deaths 2')\n",
      "ScalarOutcome('A.2_Expected Annual Damage 2')\n",
      "ScalarOutcome('A.2_Dike Investment Costs 2')\n",
      "ScalarOutcome('A.2_Expected Number of Deaths 2')\n",
      "ScalarOutcome('A.3_Expected Annual Damage 2')\n",
      "ScalarOutcome('A.3_Dike Investment Costs 2')\n",
      "ScalarOutcome('A.3_Expected Number of Deaths 2')\n",
      "ScalarOutcome('A.4_Expected Annual Damage 2')\n",
      "ScalarOutcome('A.4_Dike Investment Costs 2')\n",
      "ScalarOutcome('A.4_Expected Number of Deaths 2')\n",
      "ScalarOutcome('A.5_Expected Annual Damage 2')\n",
      "ScalarOutcome('A.5_Dike Investment Costs 2')\n",
      "ScalarOutcome('A.5_Expected Number of Deaths 2')\n",
      "ScalarOutcome('RfR Total Costs 2')\n",
      "ScalarOutcome('Expected Evacuation Costs 2')\n"
     ]
    }
   ],
   "source": [
    "for outcome in dike_model.outcomes:\n",
    "    print(repr(outcome))"
   ]
  },
  {
   "cell_type": "code",
   "execution_count": 3,
   "id": "48cee881",
   "metadata": {},
   "outputs": [],
   "source": [
    "base_case = Policy('Base Case', **{l.name:0 for l in dike_model.levers})"
   ]
  },
  {
   "cell_type": "code",
   "execution_count": 4,
   "id": "298b9924",
   "metadata": {},
   "outputs": [],
   "source": [
    "from ema_workbench import (Model, RealParameter, TimeSeriesOutcome,\n",
    "                           perform_experiments, ema_logging,Policy, SequentialEvaluator)\n",
    "\n",
    "from ema_workbench.em_framework.evaluators import LHS, SOBOL, MORRIS\n",
    "from ema_workbench.em_framework.salib_samplers import get_SALib_problem\n",
    "\n",
    "from SALib.analyze import sobol\n"
   ]
  },
  {
   "cell_type": "code",
   "execution_count": 24,
   "id": "435680f8",
   "metadata": {},
   "outputs": [
    {
     "name": "stdout",
     "output_type": "stream",
     "text": [
      "{'num_vars': 19, 'names': ['A.0_ID flood wave shape', 'A.1_Bmax', 'A.1_Brate', 'A.1_pfail', 'A.2_Bmax', 'A.2_Brate', 'A.2_pfail', 'A.3_Bmax', 'A.3_Brate', 'A.3_pfail', 'A.4_Bmax', 'A.4_Brate', 'A.4_pfail', 'A.5_Bmax', 'A.5_Brate', 'A.5_pfail', 'discount rate 0', 'discount rate 1', 'discount rate 2'], 'bounds': [(0, 133), (30, 350), (0, 3), (0, 1), (30, 350), (0, 3), (0, 1), (30, 350), (0, 3), (0, 1), (30, 350), (0, 3), (0, 1), (30, 350), (0, 3), (0, 1), (0, 4), (0, 4), (0, 4)]}\n"
     ]
    }
   ],
   "source": [
    "problem = get_SALib_problem(uncertainties)\n",
    "print(problem)"
   ]
  },
  {
   "cell_type": "code",
   "execution_count": 5,
   "id": "b0b2edf3",
   "metadata": {},
   "outputs": [
    {
     "name": "stderr",
     "output_type": "stream",
     "text": [
      "[MainProcess/INFO] performing 40 scenarios * 1 policies * 1 model(s) = 40 experiments\n",
      "[MainProcess/INFO] performing experiments sequentially\n",
      "[MainProcess/INFO] 4 cases completed\n",
      "[MainProcess/INFO] 8 cases completed\n",
      "[MainProcess/INFO] 12 cases completed\n",
      "[MainProcess/INFO] 16 cases completed\n",
      "[MainProcess/INFO] 20 cases completed\n",
      "[MainProcess/INFO] 24 cases completed\n",
      "[MainProcess/INFO] 28 cases completed\n",
      "[MainProcess/INFO] 32 cases completed\n",
      "[MainProcess/INFO] 36 cases completed\n",
      "[MainProcess/INFO] 40 cases completed\n",
      "[MainProcess/INFO] experiments finished\n"
     ]
    }
   ],
   "source": [
    "from __future__ import (unicode_literals, print_function, absolute_import,\n",
    "                        division)\n",
    "\n",
    "\n",
    "from ema_workbench import (Model, MultiprocessingEvaluator, SequentialEvaluator, Policy,\n",
    "                           Scenario)\n",
    "\n",
    "from ema_workbench.em_framework.evaluators import perform_experiments\n",
    "from ema_workbench.em_framework.samplers import sample_uncertainties\n",
    "from ema_workbench.util import ema_logging\n",
    "import time\n",
    "from problem_formulation import get_model_for_problem_formulation\n",
    "\n",
    "\n",
    "if __name__ == '__main__':\n",
    "    ema_logging.log_to_stderr(ema_logging.INFO)\n",
    "\n",
    "    dike_model, planning_steps = get_model_for_problem_formulation(0)\n",
    "\n",
    "    # Build a user-defined scenario and policy:\n",
    "    reference_values = {'Bmax': 175, 'Brate': 1.5, 'pfail': 0.5,\n",
    "                        'ID flood wave shape': 4, 'planning steps': 2}\n",
    "    reference_values.update({'discount rate {}'.format(n): 3.5 for n in planning_steps})\n",
    "    scen1 = {}\n",
    "\n",
    "    for key in dike_model.uncertainties:\n",
    "        name_split = key.name.split('_')\n",
    "\n",
    "        if len(name_split) == 1:\n",
    "            scen1.update({key.name: reference_values[key.name]})\n",
    "\n",
    "        else:\n",
    "            scen1.update({key.name: reference_values[name_split[1]]})\n",
    "\n",
    "    ref_scenario = Scenario('reference', **scen1)\n",
    "\n",
    "    # no dike increase, no warning, none of the rfr\n",
    "    base_case = Policy('Base Case', **{l.name:0 for l in dike_model.levers})\n",
    "\n",
    "    with SequentialEvaluator(dike_model) as evaluator:\n",
    "        results = evaluator.perform_experiments(scenarios=1, policies=base_case,\n",
    "                                               uncertainty_sampling='sobol')\n"
   ]
  },
  {
   "cell_type": "code",
   "execution_count": 53,
   "id": "2af302f5",
   "metadata": {},
   "outputs": [
    {
     "ename": "NameError",
     "evalue": "name 'outcomes_sobol' is not defined",
     "output_type": "error",
     "traceback": [
      "\u001b[1;31m---------------------------------------------------------------------------\u001b[0m",
      "\u001b[1;31mNameError\u001b[0m                                 Traceback (most recent call last)",
      "\u001b[1;32m<ipython-input-53-8c61ebb91f71>\u001b[0m in \u001b[0;36m<module>\u001b[1;34m\u001b[0m\n\u001b[1;32m----> 1\u001b[1;33m \u001b[0moutcomes_sobol\u001b[0m\u001b[1;33m\u001b[0m\u001b[1;33m\u001b[0m\u001b[0m\n\u001b[0m",
      "\u001b[1;31mNameError\u001b[0m: name 'outcomes_sobol' is not defined"
     ]
    }
   ],
   "source": [
    "experiments_sobol, outcomes_sobol = results_sobol"
   ]
  },
  {
   "cell_type": "code",
   "execution_count": 34,
   "id": "a1166ade",
   "metadata": {},
   "outputs": [
    {
     "ename": "NameError",
     "evalue": "name 'outcomes_sobol' is not defined",
     "output_type": "error",
     "traceback": [
      "\u001b[1;31m---------------------------------------------------------------------------\u001b[0m",
      "\u001b[1;31mNameError\u001b[0m                                 Traceback (most recent call last)",
      "\u001b[1;32m<ipython-input-34-bc83a61d46ef>\u001b[0m in \u001b[0;36m<module>\u001b[1;34m\u001b[0m\n\u001b[1;32m----> 1\u001b[1;33m \u001b[0mSi\u001b[0m \u001b[1;33m=\u001b[0m \u001b[0msobol\u001b[0m\u001b[1;33m.\u001b[0m\u001b[0manalyze\u001b[0m\u001b[1;33m(\u001b[0m\u001b[0mproblem\u001b[0m\u001b[1;33m,\u001b[0m \u001b[0moutcomes_sobol\u001b[0m\u001b[1;33m[\u001b[0m\u001b[1;34m''\u001b[0m\u001b[1;33m]\u001b[0m\u001b[1;33m,\u001b[0m \u001b[0mcalc_second_order\u001b[0m\u001b[1;33m=\u001b[0m\u001b[1;32mTrue\u001b[0m\u001b[1;33m,\u001b[0m \u001b[0mprint_to_console\u001b[0m\u001b[1;33m=\u001b[0m\u001b[1;32mTrue\u001b[0m\u001b[1;33m)\u001b[0m \u001b[1;31m# insert whihc parameter we're interested in\u001b[0m\u001b[1;33m\u001b[0m\u001b[1;33m\u001b[0m\u001b[0m\n\u001b[0m",
      "\u001b[1;31mNameError\u001b[0m: name 'outcomes_sobol' is not defined"
     ]
    }
   ],
   "source": [
    "Si = sobol.analyze(problem, outcomes_sobol[''], calc_second_order=True, print_to_console=True) # insert whihc parameter we're interested in"
   ]
  },
  {
   "cell_type": "code",
   "execution_count": null,
   "id": "332e3263",
   "metadata": {},
   "outputs": [],
   "source": []
  }
 ],
 "metadata": {
  "kernelspec": {
   "display_name": "Python 3",
   "language": "python",
   "name": "python3"
  },
  "language_info": {
   "codemirror_mode": {
    "name": "ipython",
    "version": 3
   },
   "file_extension": ".py",
   "mimetype": "text/x-python",
   "name": "python",
   "nbconvert_exporter": "python",
   "pygments_lexer": "ipython3",
   "version": "3.6.13"
  }
 },
 "nbformat": 4,
 "nbformat_minor": 5
}
