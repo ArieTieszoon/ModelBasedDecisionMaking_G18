{
 "cells": [
  {
   "cell_type": "markdown",
   "id": "8b0ba14a-60f9-4ae6-b82a-9b13d49b6665",
   "metadata": {},
   "source": [
    "# Robustness of policies"
   ]
  },
  {
   "cell_type": "markdown",
   "id": "b57870fd-8e42-4882-a858-0dd4318a21a4",
   "metadata": {},
   "source": [
    "## Re-evaluate under deep uncertainty\n",
    "\n",
    "Combine the pareto set of solutions found for each scenario. Next, turn each solution into a policy object. If you have a very large number of policies, you can choose to down sample your policies in some reasoned way (*e.g.*, picking min and max on each objective, slicing across the pareto front with a particular step size). As a rule of thumb, try to limit the set of policies to at most 50. \n",
    "\n",
    "Re-evaluate the combined set of solutions over 1000 scenarios sampled using LHS.\n"
   ]
  },
  {
   "cell_type": "code",
   "execution_count": 1,
   "id": "ef59ed9a-7925-44ea-a972-68f4a1f9e263",
   "metadata": {},
   "outputs": [
    {
     "name": "stdout",
     "output_type": "stream",
     "text": [
      "0\n",
      "1\n",
      "2\n",
      "3\n",
      "4\n"
     ]
    }
   ],
   "source": [
    "results = []\n",
    "for i in range(5):\n",
    "    results_scenario = pd.read_csv(f'outcomes/results_optimisation_scenario{i}.csv')\n",
    "    results.append[results_scenario]"
   ]
  },
  {
   "cell_type": "code",
   "execution_count": null,
   "id": "a4aae90f-eb65-4635-a086-e2572c8dc20e",
   "metadata": {},
   "outputs": [],
   "source": [
    "from ema_workbench import Policy\n",
    "\n",
    "policies = []\n",
    "for i, (result_best_worst, _) in enumerate(results):\n",
    "    result_worst = results[i].loc[results[i][[\"A.5_Total Dike Investment Costs',\n",
    "                                    'A.5_Total Expected Number of Deaths', \n",
    "                                    'RfR Total Costs',\n",
    "                                    'Total Expected Evacuation Costs', \n",
    "                                    'Other Areas Total Number of Deaths',\n",
    "                                    'Other Areas Total Dike Investment Costs',\n",
    "                                    'Other Areas Total Damage']].idxmax()]\n",
    "\n",
    "    result_best = results[i].loc[results[i][[\"A.5_Total Dike Investment Costs',\n",
    "                                       'A.5_Total Expected Number of Deaths', \n",
    "                                       'RfR Total Costs',\n",
    "                                       'Total Expected Evacuation Costs',\n",
    "                                       'Other Areas Total Number of Deaths',\n",
    "                                       'Other Areas Total Dike Investment Costs', \n",
    "                                       'Other Areas Total Damage']].idxmin()]\n",
    "\n",
    "    result_best_worst = result_best.append(result_worst)\n",
    "    \n",
    "    for j, row in result_best_worst.iterrows():\n",
    "        policy = Policy(f'scenario {i} option {j}', **row.to_dict())\n",
    "        policies.append(policy)"
   ]
  },
  {
   "cell_type": "code",
   "execution_count": null,
   "id": "be52ee01-eee8-414e-8b22-c3f167537958",
   "metadata": {},
   "outputs": [],
   "source": [
    "with MultiprocessingEvaluator(model) as evaluator:\n",
    "    reeevaluation_results = evaluator.perform_experiments(1000, policies=policies)"
   ]
  },
  {
   "cell_type": "markdown",
   "id": "128b58a3-1301-42b5-a8ad-1c97081f0efb",
   "metadata": {},
   "source": [
    "### Maximin\n",
    "Maximin is taking into account the worst case scenario the worst thing that could happen.\n",
    "\n",
    "\"the maximin metric has a very high level of intrinsic risk aversion, as its calculation is only based on the worst performance over all scenarios considered (Table 3), leading to a very conservative solution (Bertsimas & Sim, 2004). Similarly, the minimax regret metric assumes that the selected decision alternative will have the largest regret possible, as its calculation is based on the worst-case relative performance\" https://agupubs.onlinelibrary.wiley.com/doi/full/10.1002/2017EF000649\n"
   ]
  },
  {
   "cell_type": "code",
   "execution_count": null,
   "id": "e6eb49a7-804e-4b93-aeb0-e7d63888cdb1",
   "metadata": {},
   "outputs": [],
   "source": []
  },
  {
   "cell_type": "markdown",
   "id": "3dcc869c-bbf2-4e2d-9452-d30ec77c0b4c",
   "metadata": {},
   "source": [
    "### Minimax Regret Criterion\n",
    "The Minimax Regret Criterion is a technique used to make decisions under uncertainty. The context of a decision making process under uncertainty, a decision maker is faced to uncertain states of nature and a number of decision alternatives that can be chosen. The decision made and the final state of nature (which the decision maker does not know beforehand) determines the payoff.\n",
    "\n",
    "Under this Minimax Regret Criterion, the decision maker calculates the maximum opportunity loss values (or also known as regret) for each alternative, and then she chooses the decision that has the lowest maximum regret.\n",
    "\n",
    "The regret or opportunity loss for a specific alternative, at a given state of nature, is how much we lose by choosing that alternative and not the optimal alternative, given that state of nature (if the current alternative IS the optima alternative, then the opportunity loss for that alternative, given the state of nature, is 0).\n",
    "\n",
    "https://mathcracker.com/minimax-regret-criterion-calculator"
   ]
  },
  {
   "cell_type": "code",
   "execution_count": null,
   "id": "7326d797-238d-426d-9e3a-1415b885bda4",
   "metadata": {},
   "outputs": [],
   "source": []
  }
 ],
 "metadata": {
  "kernelspec": {
   "display_name": "Python 3",
   "language": "python",
   "name": "python3"
  },
  "language_info": {
   "codemirror_mode": {
    "name": "ipython",
    "version": 3
   },
   "file_extension": ".py",
   "mimetype": "text/x-python",
   "name": "python",
   "nbconvert_exporter": "python",
   "pygments_lexer": "ipython3",
   "version": "3.6.13"
  }
 },
 "nbformat": 4,
 "nbformat_minor": 5
}
