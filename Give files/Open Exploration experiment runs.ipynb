{
 "cells": [
  {
   "cell_type": "markdown",
   "id": "5ca1da35-e314-4730-91df-070fbe50f493",
   "metadata": {},
   "source": [
    "### Experiments exploration"
   ]
  },
  {
   "cell_type": "markdown",
   "id": "b6bc0b1f-d8c3-4bad-b6d7-1e753540e20d",
   "metadata": {},
   "source": [
    "This notebook deals with running the model over 1000 different scenarios and 100 randomly chosen policies so the outcomes can be analysed in the open_exploration.ipynb notebook."
   ]
  },
  {
   "cell_type": "code",
   "execution_count": 1,
   "id": "94c46640",
   "metadata": {},
   "outputs": [],
   "source": [
    "#All packages needed and setting up the model\n",
    "import numpy as np\n",
    "import scipy as sp\n",
    "import pandas as pd\n",
    "import matplotlib.pyplot as plt\n",
    "import seaborn as sns\n",
    "import networkx as nx\n",
    "\n",
    "from ema_workbench import (Model, CategoricalParameter,\n",
    "                           ScalarOutcome, IntegerParameter, RealParameter,\n",
    "                           MultiprocessingEvaluator, Policy, Scenario)\n",
    "\n",
    "from dike_model_function import DikeNetwork  # @UnresolvedImport\n",
    "\n",
    "\n",
    "def sum_over(*args):\n",
    "    return sum(args)\n",
    "\n",
    "from ema_workbench import (Model, )\n",
    "\n",
    "from ema_workbench.em_framework.evaluators import perform_experiments\n",
    "from ema_workbench.em_framework.samplers import sample_uncertainties\n",
    "from ema_workbench.util import ema_logging\n",
    "import time\n",
    "\n",
    "from problem_formulation import get_model_for_problem_formulation\n",
    "\n",
    "\n",
    "ema_logging.log_to_stderr(ema_logging.INFO)\n",
    "\n",
    "#Set model with the disagregated problem formulation. \n",
    "dike_model, planning_steps = get_model_for_problem_formulation(5)"
   ]
  },
  {
   "cell_type": "code",
   "execution_count": 2,
   "id": "f6481a91",
   "metadata": {},
   "outputs": [],
   "source": [
    "#Define model uncertainties and levers\n",
    "import copy\n",
    "uncertainties = copy.deepcopy(dike_model.uncertainties)\n",
    "levers = copy.deepcopy(dike_model.levers)"
   ]
  },
  {
   "cell_type": "code",
   "execution_count": 3,
   "id": "215cc700-0304-4f93-8bd8-f729d2b4b278",
   "metadata": {},
   "outputs": [],
   "source": [
    "#Set a base case policy that can be used in basecase runs\n",
    "base_case = Policy('Base Case', **{l.name:0 for l in dike_model.levers})"
   ]
  },
  {
   "cell_type": "code",
   "execution_count": 20,
   "id": "a3ab3588",
   "metadata": {},
   "outputs": [
    {
     "name": "stderr",
     "output_type": "stream",
     "text": [
      "[MainProcess/INFO] pool started\n",
      "[MainProcess/INFO] performing 1000 scenarios * 100 policies * 1 model(s) = 100000 experiments\n",
      "[MainProcess/INFO] 10000 cases completed\n",
      "[MainProcess/INFO] 20000 cases completed\n",
      "[MainProcess/INFO] 30000 cases completed\n",
      "[MainProcess/INFO] 40000 cases completed\n",
      "[MainProcess/INFO] 50000 cases completed\n",
      "[MainProcess/INFO] 60000 cases completed\n",
      "[MainProcess/INFO] 70000 cases completed\n",
      "[MainProcess/INFO] 80000 cases completed\n",
      "[MainProcess/INFO] 90000 cases completed\n",
      "[MainProcess/INFO] 100000 cases completed\n",
      "[MainProcess/INFO] experiments finished\n",
      "[MainProcess/INFO] terminating pool\n"
     ]
    }
   ],
   "source": [
    "#running the model through EMA workbench\n",
    "from ema_workbench import (MultiprocessingEvaluator, ema_logging,\n",
    "                           perform_experiments, SequentialEvaluator)\n",
    "ema_logging.log_to_stderr(ema_logging.INFO)\n",
    " \n",
    "with MultiprocessingEvaluator(dike_model) as evaluator:\n",
    "    experiments, outcomes = evaluator.perform_experiments(scenarios=1000, policies=100)"
   ]
  },
  {
   "cell_type": "code",
   "execution_count": 23,
   "id": "394b0db2-63ee-4840-b202-a44204015758",
   "metadata": {},
   "outputs": [],
   "source": [
    "#Save experiments and outcomes so it is not needed to run the model everytime the results are needed.\n",
    "experiments.to_csv('Experiments_from_Exploration_1000scenarios_100Policies_pf5.csv')\n",
    "\n",
    "outcomes_DF = pd.DataFrame(outcomes)\n",
    "outcomes_DF.to_csv('Outcomes_from_Exploration_1000scenarios_100Policies_pf5.csv')"
   ]
  },
  {
   "cell_type": "code",
   "execution_count": 28,
   "id": "26214814-b75f-482c-aa24-e2af1559512d",
   "metadata": {},
   "outputs": [],
   "source": [
    "#Load in the results of the model runs\n",
    "outcomes_load_DF = pd.read_csv('./outcomes/Outcomes_from_Exploration_1000scenarios_100Policies_pf5.csv')\n",
    "experiments_load_DF = pd.read_csv('./outcomes/Experiments_from_Exploration_1000scenarios_100Policies_pf5.csv')"
   ]
  },
  {
   "cell_type": "code",
   "execution_count": 30,
   "id": "6b6d66f2",
   "metadata": {},
   "outputs": [],
   "source": [
    "#Sum the model outcomes over time so an endresult is calculated.\n",
    "\n",
    "for n in range(1,6):\n",
    "    outcomes_of_interest[f'A.{n}_Expected Total Damage'] = 0\n",
    "    outcomes_of_interest[f'A.{n}_Total Dike Investment Costs'] = 0\n",
    "    outcomes_of_interest[f'A.{n}_Total Expected Number of Deaths'] = 0\n",
    "    \n",
    "    for i in range(3):\n",
    "        outcomes_of_interest[f'A.{n}_Expected Total Damage'] += outcomes_of_interest[f'A.{n}_Expected Annual Damage {i}']\n",
    "        outcomes_of_interest[f'A.{n}_Total Dike Investment Costs'] += outcomes_of_interest[f'A.{n}_Dike Investment Costs {i}']\n",
    "        outcomes_of_interest[f'A.{n}_Total Expected Number of Deaths'] += outcomes_of_interest[f'A.{n}_Expected Number of Deaths {i}']\n",
    "    n+=1\n",
    "\n",
    "outcomes_of_interest['RfR Total Costs'] = 0\n",
    "outcomes_of_interest['Total Expected Evacuation Costs'] = 0\n",
    "outcomes_of_interest['Other Areas Total Number of Deaths'] = 0  \n",
    "outcomes_of_interest['Other Areas Total Dike Investment Costs'] = 0\n",
    "outcomes_of_interest['Other Areas Total Damage'] = 0\n",
    "\n",
    "\n",
    "for i in range(3):\n",
    "    outcomes_of_interest['RfR Total Costs'] += outcomes_of_interest[f'RfR Total Costs {i}']\n",
    "    outcomes_of_interest['Total Expected Evacuation Costs'] += outcomes_of_interest[f'Expected Evacuation Costs {i}']\n",
    "    \n",
    "\n",
    "#Create a new outcome that sees what impacts the other dike rings together have to deal with.    \n",
    "for area in range(1,5):\n",
    "    outcomes_of_interest['Other Areas Total Number of Deaths'] += outcomes_of_interest[f'A.{area}_Total Expected Number of Deaths']\n",
    "    outcomes_of_interest['Other Areas Total Dike Investment Costs'] += outcomes_of_interest[f'A.{area}_Total Dike Investment Costs']\n",
    "    outcomes_of_interest['Other Areas Total Damage'] += outcomes_of_interest[f'A.{area}_Expected Total Damage']\n",
    "\n",
    "#Select the outcomes of interest (do not include the policy levers)\n",
    "outcomes_totals = outcomes_of_interest.iloc[:,-20::]"
   ]
  },
  {
   "cell_type": "code",
   "execution_count": 32,
   "id": "7d8fb9ea-9588-4ec8-977f-f023659eedcf",
   "metadata": {},
   "outputs": [],
   "source": [
    "#Save to csv\n",
    "outcomes_totals.to_csv('Outcomes_totals_from_Exploration_1000scenarios_100Policies_pf5.csv')"
   ]
  }
 ],
 "metadata": {
  "kernelspec": {
   "display_name": "Python 3",
   "language": "python",
   "name": "python3"
  },
  "language_info": {
   "codemirror_mode": {
    "name": "ipython",
    "version": 3
   },
   "file_extension": ".py",
   "mimetype": "text/x-python",
   "name": "python",
   "nbconvert_exporter": "python",
   "pygments_lexer": "ipython3",
   "version": "3.6.13"
  }
 },
 "nbformat": 4,
 "nbformat_minor": 5
}
