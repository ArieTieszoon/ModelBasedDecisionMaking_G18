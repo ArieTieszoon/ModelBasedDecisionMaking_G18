{
 "cells": [
  {
   "cell_type": "markdown",
   "id": "7428c656",
   "metadata": {},
   "source": [
    "### Week 5/6\n",
    "\n"
   ]
  },
  {
   "cell_type": "code",
   "execution_count": 1,
   "id": "0191f26f",
   "metadata": {},
   "outputs": [],
   "source": [
    "import numpy as np\n",
    "import scipy as sp\n",
    "import pandas as pd\n",
    "import matplotlib.pyplot as plt\n",
    "import seaborn as sns\n",
    "import networkx as nx\n",
    "\n",
    "from ema_workbench import (Model, CategoricalParameter,\n",
    "                           ScalarOutcome, IntegerParameter, RealParameter,\n",
    "                           MultiprocessingEvaluator, Policy, Scenario)\n",
    "\n",
    "from dike_model_function import DikeNetwork  # @UnresolvedImport\n",
    "\n",
    "\n",
    "def sum_over(*args):\n",
    "    return sum(args)\n",
    "\n",
    "from ema_workbench import (Model, )\n",
    "\n",
    "from ema_workbench.em_framework.evaluators import perform_experiments\n",
    "from ema_workbench.em_framework.samplers import sample_uncertainties\n",
    "from ema_workbench.util import ema_logging\n",
    "import time\n",
    "\n",
    "from problem_formulation import get_model_for_problem_formulation\n",
    "\n",
    "\n",
    "ema_logging.log_to_stderr(ema_logging.INFO)\n",
    "\n",
    "#choose problem formulation number, between 0-5\n",
    "#each problem formulation has its own list of outcomes\n",
    "dike_model, planning_steps = get_model_for_problem_formulation(3)"
   ]
  },
  {
   "cell_type": "code",
   "execution_count": 2,
   "id": "89905f1b",
   "metadata": {},
   "outputs": [],
   "source": [
    "uncertainties = dike_model.uncertainties\n",
    "levers = dike_model.levers \n",
    "\n",
    "import copy\n",
    "uncertainties = copy.deepcopy(dike_model.uncertainties)\n",
    "levers = copy.deepcopy(dike_model.levers)"
   ]
  },
  {
   "cell_type": "code",
   "execution_count": null,
   "id": "583f43de",
   "metadata": {},
   "outputs": [
    {
     "name": "stderr",
     "output_type": "stream",
     "text": [
      "[MainProcess/INFO] pool started\n",
      "[MainProcess/INFO] generation 0: 0/500 nfe\n"
     ]
    }
   ],
   "source": [
    "#running the model through EMA workbench\n",
    "from ema_workbench import (MultiprocessingEvaluator, ema_logging,\n",
    "                           perform_experiments, SequentialEvaluator)\n",
    "ema_logging.log_to_stderr(ema_logging.INFO)\n",
    " \n",
    "with MultiprocessingEvaluator(dike_model) as evaluator:\n",
    "    results = evaluator.optimize(nfe=500, searchover='levers',\n",
    "                                 epsilons=[0.5,]*len(dike_model.outcomes))"
   ]
  },
  {
   "cell_type": "code",
   "execution_count": null,
   "id": "aae9434f",
   "metadata": {},
   "outputs": [],
   "source": [
    "from ema_workbench.analysis import parcoords\n",
    "\n",
    "data = results.loc[:, ['A.5_Expected Number of Deaths 2', 'A.4_Expected Number of Deaths 2','A.5_Dike Investment Costs 2', 'RfR Total Costs 2', 'Expected Evacuation Costs 2']]\n",
    "limits = parcoords.get_limits(data)\n",
    "limits.loc[0, ['A.5_Expected Number of Deaths 2', 'A.4_Expected Number of Deaths 2','A.5_Dike Investment Costs 2', 'RfR Total Costs 2', 'Expected Evacuation Costs 2']] = 0\n",
    "\n",
    "paraxes = parcoords.ParallelAxes(limits)\n",
    "paraxes.plot(data)\n",
    "#paraxes.invert_axis('max_P')\n",
    "plt.show()"
   ]
  }
 ],
 "metadata": {
  "kernelspec": {
   "display_name": "Python 3",
   "language": "python",
   "name": "python3"
  },
  "language_info": {
   "codemirror_mode": {
    "name": "ipython",
    "version": 3
   },
   "file_extension": ".py",
   "mimetype": "text/x-python",
   "name": "python",
   "nbconvert_exporter": "python",
   "pygments_lexer": "ipython3",
   "version": "3.8.8"
  }
 },
 "nbformat": 4,
 "nbformat_minor": 5
}
